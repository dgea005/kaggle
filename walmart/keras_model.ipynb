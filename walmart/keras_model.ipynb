{
 "cells": [
  {
   "cell_type": "code",
   "execution_count": 1,
   "metadata": {
    "collapsed": true
   },
   "outputs": [],
   "source": [
    "%matplotlib inline\n",
    "import pandas as pd\n",
    "import numpy as np\n",
    "import matplotlib.pyplot as plt\n",
    "import seaborn as sns"
   ]
  },
  {
   "cell_type": "code",
   "execution_count": 2,
   "metadata": {
    "collapsed": false
   },
   "outputs": [
    {
     "name": "stderr",
     "output_type": "stream",
     "text": [
      "/Users/danielg/anaconda/envs/py35/lib/python3.5/site-packages/sklearn/utils/fixes.py:64: DeprecationWarning: inspect.getargspec() is deprecated, use inspect.signature() instead\n",
      "  if 'order' in inspect.getargspec(np.copy)[0]:\n"
     ]
    }
   ],
   "source": [
    "from keras.models import Sequential\n",
    "from keras.layers.core import Dense, Dropout, Activation\n",
    "from keras.optimizers import SGD\n",
    "from sklearn.cross_validation import StratifiedShuffleSplit\n",
    "from sklearn.metrics import log_loss\n",
    "import theano as th"
   ]
  },
  {
   "cell_type": "code",
   "execution_count": 21,
   "metadata": {
    "collapsed": true
   },
   "outputs": [],
   "source": [
    "from sklearn.decomposition import TruncatedSVD"
   ]
  },
  {
   "cell_type": "code",
   "execution_count": 3,
   "metadata": {
    "collapsed": false
   },
   "outputs": [
    {
     "data": {
      "text/plain": [
       "'0.7.0.dev-dfb2730348d05f6aadd116ce492e836a4c0ba6d6'"
      ]
     },
     "execution_count": 3,
     "metadata": {},
     "output_type": "execute_result"
    }
   ],
   "source": [
    "th.version.full_version"
   ]
  },
  {
   "cell_type": "markdown",
   "metadata": {},
   "source": [
    "# Data preparation"
   ]
  },
  {
   "cell_type": "markdown",
   "metadata": {},
   "source": [
    "## read"
   ]
  },
  {
   "cell_type": "code",
   "execution_count": 9,
   "metadata": {
    "collapsed": true
   },
   "outputs": [],
   "source": [
    "submission_sample = pd.read_csv(\"data/sample_submission.csv\")\n",
    "train = pd.read_csv(\"data/train.csv\")\n",
    "test = pd.read_csv(\"data/test.csv\")"
   ]
  },
  {
   "cell_type": "markdown",
   "metadata": {},
   "source": [
    "## clean and create features"
   ]
  },
  {
   "cell_type": "code",
   "execution_count": 10,
   "metadata": {
    "collapsed": true
   },
   "outputs": [],
   "source": [
    "# create id\n",
    "train['id'] = train.index.values\n",
    "test['id'] = test.index.values"
   ]
  },
  {
   "cell_type": "code",
   "execution_count": 11,
   "metadata": {
    "collapsed": false
   },
   "outputs": [
    {
     "data": {
      "text/plain": [
       "TripType                     38\n",
       "VisitNumber               95674\n",
       "Weekday                       7\n",
       "Upc                       97715\n",
       "ScanCount                    39\n",
       "DepartmentDescription        69\n",
       "FinelineNumber             5196\n",
       "id                       647054\n",
       "dtype: int64"
      ]
     },
     "execution_count": 11,
     "metadata": {},
     "output_type": "execute_result"
    }
   ],
   "source": [
    "train.apply(lambda x: len(x.unique()))"
   ]
  },
  {
   "cell_type": "code",
   "execution_count": 12,
   "metadata": {
    "collapsed": false
   },
   "outputs": [],
   "source": [
    "# could create variable with number of items per visit???\n",
    "# will probably be quite useful??\n",
    "    # will be able to create other variables like: departmenttype flat, etc - so quite a lot of other variables\n",
    "\n",
    "unique_trip_items_train = train.groupby(['VisitNumber']).agg({'id': len})\n",
    "unique_trip_items_train.columns = ['unique_trip_items']\n",
    "\n",
    "unique_trip_items_test = test.groupby(['VisitNumber']).agg({'id': len})\n",
    "unique_trip_items_test.columns = ['unique_trip_items']\n",
    "\n",
    "# also total number by the scancounts...\n",
    "trip_scancount_total_train = train.groupby(['VisitNumber']).agg({'ScanCount': sum})\n",
    "trip_scancount_total_train.columns = ['ScanCount_total']\n",
    "\n",
    "trip_scancount_total_test = test.groupby(['VisitNumber']).agg({'ScanCount': sum})\n",
    "trip_scancount_total_test.columns = ['ScanCount_total']"
   ]
  },
  {
   "cell_type": "code",
   "execution_count": 13,
   "metadata": {
    "collapsed": true
   },
   "outputs": [],
   "source": [
    "#\n",
    "# missing value imputation\n",
    "#\n",
    "\n",
    "# will set missing FinelineNumber to -1\n",
    "train.FinelineNumber = train.FinelineNumber.fillna(-1)\n",
    "test.FinelineNumber = test.FinelineNumber.fillna(-1)\n",
    "# will set missing Upc to 0\n",
    "train.Upc = train.Upc.fillna(0)\n",
    "test.Upc = test.Upc.fillna(0)\n",
    "# will set missing DepartmentDescription to Missing\n",
    "train.DepartmentDescription = train.DepartmentDescription.fillna(\"missing\")\n",
    "test.DepartmentDescription = test.DepartmentDescription.fillna(\"missing\")"
   ]
  },
  {
   "cell_type": "code",
   "execution_count": 14,
   "metadata": {
    "collapsed": true
   },
   "outputs": [],
   "source": [
    "train_grouped = train.groupby(\"VisitNumber\", as_index=False).agg({'Weekday': lambda x: x.unique(),\n",
    "                               'id': len,\n",
    "                              'ScanCount': sum,\n",
    "                             'TripType': lambda x: x.unique()})"
   ]
  },
  {
   "cell_type": "code",
   "execution_count": 15,
   "metadata": {
    "collapsed": true
   },
   "outputs": [],
   "source": [
    "test_grouped = test.groupby(\"VisitNumber\", as_index=False).agg({'Weekday': lambda x: x.unique(),\n",
    "                               'id': len,\n",
    "                              'ScanCount': sum})"
   ]
  },
  {
   "cell_type": "code",
   "execution_count": 16,
   "metadata": {
    "collapsed": true
   },
   "outputs": [],
   "source": [
    "X_train = train_grouped.drop(\"TripType\",axis=1)\n",
    "y_train = train_grouped.TripType"
   ]
  },
  {
   "cell_type": "code",
   "execution_count": 17,
   "metadata": {
    "collapsed": true
   },
   "outputs": [],
   "source": [
    "# integrate weekday data\n",
    "days = X_train.Weekday.unique()\n",
    "for day in days:\n",
    "    X_train[str(day)] = (X_train.Weekday == str(day)).astype(int)\n",
    "X_train = X_train.drop(\"Weekday\",axis=1)\n",
    "\n",
    "X_test = test_grouped\n",
    "days = X_test.Weekday.unique()\n",
    "for day in days:\n",
    "    X_test[str(day)] = (X_test.Weekday == str(day)).astype(int)\n",
    "X_test = X_test.drop(\"Weekday\",axis=1)"
   ]
  },
  {
   "cell_type": "code",
   "execution_count": 18,
   "metadata": {
    "collapsed": false
   },
   "outputs": [
    {
     "data": {
      "text/plain": [
       "True"
      ]
     },
     "execution_count": 18,
     "metadata": {},
     "output_type": "execute_result"
    }
   ],
   "source": [
    "# integrate department data\n",
    "\n",
    "department_crosstab = pd.crosstab(train.VisitNumber, train.DepartmentDescription)\n",
    "# sort index because the order of the columns needs to be identical in test and train\n",
    "X_train = X_train.merge(department_crosstab.sort_index(axis=1), left_on='VisitNumber', right_index=True)\n",
    "department_crosstab_test = pd.crosstab(test.VisitNumber, test.DepartmentDescription)\n",
    "# how to get missing columns that are IN the training but NOT test\n",
    "# \n",
    "missing_col_test = department_crosstab.columns[~department_crosstab.columns.isin(department_crosstab_test.columns)].values[0]\n",
    "# how to get missing columns that IN the test but NOT training\n",
    "department_crosstab_test.columns[~department_crosstab_test.columns.isin(department_crosstab.columns)].values\n",
    "# need to add the columns\n",
    "department_crosstab_test[missing_col_test] = 0\n",
    "X_test = X_test.merge(department_crosstab_test.sort_index(axis=1), left_on='VisitNumber', right_index=True)\n",
    "# need to make sure that all of the columns match\n",
    "all(X_train.columns == X_test.columns)"
   ]
  },
  {
   "cell_type": "markdown",
   "metadata": {},
   "source": [
    "#### create train, validation indices..."
   ]
  },
  {
   "cell_type": "code",
   "execution_count": 25,
   "metadata": {
    "collapsed": true
   },
   "outputs": [],
   "source": [
    "y_train_dummies = pd.get_dummies(y_train).as_matrix()\n",
    "sss = StratifiedShuffleSplit(y_train_dummies,1, test_size=0.25, random_state=0)\n",
    "for train_index, test_index in sss:\n",
    "    #X_train_, X_val = X_train_mat[train_index], X_train_mat[test_index]\n",
    "    y_train_, y_val = y_train_dummies[train_index], y_train_dummies[test_index]\n",
    "    "
   ]
  },
  {
   "cell_type": "code",
   "execution_count": 19,
   "metadata": {
    "collapsed": true
   },
   "outputs": [],
   "source": [
    "# integrate fineline data\n",
    "\n",
    "# want to do the same for FineLinenumber\n",
    "fineline_train_crosstab = pd.crosstab(train.VisitNumber, train.FinelineNumber)\n",
    "fineline_test_crosstab = pd.crosstab(test.VisitNumber, test.FinelineNumber)"
   ]
  },
  {
   "cell_type": "code",
   "execution_count": 20,
   "metadata": {
    "collapsed": false
   },
   "outputs": [
    {
     "data": {
      "text/plain": [
       "True"
      ]
     },
     "execution_count": 20,
     "metadata": {},
     "output_type": "execute_result"
    }
   ],
   "source": [
    "fineline_not_in_train = fineline_test_crosstab.columns[~fineline_test_crosstab.columns.isin(fineline_train_crosstab.columns)].values\n",
    "fineline_test_crosstab = fineline_test_crosstab.drop(fineline_not_in_train,axis=1)\n",
    "# want to drop train columns that are not contained in test\n",
    "# need a 'not in test' variable\n",
    "fineline_not_in_test = fineline_train_crosstab.columns[~fineline_train_crosstab.columns.isin(fineline_test_crosstab.columns)].values\n",
    "fineline_train_crosstab = fineline_train_crosstab.drop(fineline_not_in_test,axis=1)\n",
    "# need to make sure that all of these match\n",
    "all(fineline_test_crosstab.columns == fineline_train_crosstab.columns)"
   ]
  },
  {
   "cell_type": "markdown",
   "metadata": {},
   "source": [
    "### split fineline into train and val"
   ]
  },
  {
   "cell_type": "code",
   "execution_count": null,
   "metadata": {
    "collapsed": false
   },
   "outputs": [],
   "source": [
    "for train_index, test_index in sss:\n",
    "    fineline_train_, fineline_val = fineline_train_crosstab.as_matrix()[train_index], fineline_train_crosstab.as_matrix()[test_index]"
   ]
  },
  {
   "cell_type": "code",
   "execution_count": null,
   "metadata": {
    "collapsed": true
   },
   "outputs": [],
   "source": [
    "## want to apply truncated SVD to this\n",
    "svd = TruncatedSVD(n_components=5, random_state=42)\n",
    "svd.fit(X)\n"
   ]
  },
  {
   "cell_type": "code",
   "execution_count": 72,
   "metadata": {
    "collapsed": true
   },
   "outputs": [],
   "source": [
    "# switching this over to test sums - to emphasise this...??\n",
    "\n",
    "# have a column mismatch need to fix this ....‚\n",
    "fineline_ordered_sums = fineline_train_crosstab.sum(0).sort_values(ascending=False)\n",
    "finelines_incl = fineline_ordered_sums.index\n",
    "# .iloc[0:1000]"
   ]
  },
  {
   "cell_type": "code",
   "execution_count": 73,
   "metadata": {
    "collapsed": false
   },
   "outputs": [],
   "source": [
    "fineline_train_crosstab_r = fineline_train_crosstab.loc[:,finelines_incl]\n",
    "fineline_test_crosstab_r = fineline_test_crosstab.loc[:,finelines_incl]\n"
   ]
  },
  {
   "cell_type": "code",
   "execution_count": null,
   "metadata": {
    "collapsed": true
   },
   "outputs": [],
   "source": [
    "# merge into fineline one hot encoded into X_train and X_test\n",
    "X_train = X_train.merge(fineline_train_crosstab_r, left_on=\"VisitNumber\", right_index=True)\n",
    "X_test = X_test.merge(fineline_test_crosstab_r, left_on=\"VisitNumber\", right_index=True)"
   ]
  },
  {
   "cell_type": "markdown",
   "metadata": {},
   "source": [
    "## create train and test matrices"
   ]
  },
  {
   "cell_type": "code",
   "execution_count": null,
   "metadata": {
    "collapsed": true
   },
   "outputs": [],
   "source": [
    "y_train_dummies = pd.get_dummies(y_train).as_matrix()\n",
    "X_train = X_train.drop(['VisitNumber', 'id'], axis=1)\n",
    "X_test = X_test.drop(['VisitNumber', 'id'], axis=1)"
   ]
  },
  {
   "cell_type": "code",
   "execution_count": null,
   "metadata": {
    "collapsed": false
   },
   "outputs": [],
   "source": [
    "# get rid of columns with a low number of observations....\n",
    "\n",
    "to_keep = X_train.sum()[X_train.sum() > 100].index\n",
    "X_train = X_train[to_keep]\n",
    "X_test = X_test[to_keep]"
   ]
  },
  {
   "cell_type": "code",
   "execution_count": null,
   "metadata": {
    "collapsed": true
   },
   "outputs": [],
   "source": [
    "X_train_mat = X_train.as_matrix()\n",
    "X_test_mat = X_test.as_matrix()"
   ]
  },
  {
   "cell_type": "code",
   "execution_count": null,
   "metadata": {
    "collapsed": true
   },
   "outputs": [],
   "source": [
    "sss = StratifiedShuffleSplit(y_train,1, test_size=0.25, random_state=0)"
   ]
  },
  {
   "cell_type": "code",
   "execution_count": null,
   "metadata": {
    "collapsed": false
   },
   "outputs": [],
   "source": [
    "for train_index, test_index in sss:\n",
    "    X_train_, X_val = X_train_mat[train_index], X_train_mat[test_index]\n",
    "    y_train_, y_val = y_train_dummies[train_index], y_train_dummies[test_index]"
   ]
  },
  {
   "cell_type": "code",
   "execution_count": null,
   "metadata": {
    "collapsed": false
   },
   "outputs": [],
   "source": [
    "X_train_.shape"
   ]
  },
  {
   "cell_type": "code",
   "execution_count": null,
   "metadata": {
    "collapsed": false
   },
   "outputs": [],
   "source": [
    "#normalisation\n",
    "\n",
    "# col means\n",
    "# col std\n",
    "col_means = X_train_.mean(0)\n",
    "col_std = X_train_.std(0)"
   ]
  },
  {
   "cell_type": "code",
   "execution_count": null,
   "metadata": {
    "collapsed": false
   },
   "outputs": [],
   "source": [
    "# apply to train\n",
    "X_train_ = (X_train_-col_means)/col_std\n",
    "\n",
    "# apply to val\n",
    "X_val = (X_val-col_means)/col_std\n",
    "\n",
    "# apply to test\n",
    "X_test_mat = (X_test_mat-col_means)/col_std"
   ]
  },
  {
   "cell_type": "markdown",
   "metadata": {},
   "source": [
    "# Model"
   ]
  },
  {
   "cell_type": "code",
   "execution_count": 54,
   "metadata": {
    "collapsed": false
   },
   "outputs": [],
   "source": [
    "model = Sequential()\n",
    "\n",
    "model.add(Dense(256, input_dim=X_train.shape[1], init='uniform'))\n",
    "model.add(Activation('tanh'))\n",
    "model.add(Dropout(0.2)) \n",
    "model.add(Dense(256, init='uniform'))\n",
    "model.add(Activation('tanh'))\n",
    "model.add(Dropout(0.2)) \n",
    "model.add(Dense(y_train_.shape[1], init='uniform'))\n",
    "model.add(Activation('softmax'))"
   ]
  },
  {
   "cell_type": "code",
   "execution_count": 49,
   "metadata": {
    "collapsed": false
   },
   "outputs": [],
   "source": [
    "th.config.compute_test_value = \"off\""
   ]
  },
  {
   "cell_type": "code",
   "execution_count": 55,
   "metadata": {
    "collapsed": false
   },
   "outputs": [],
   "source": [
    "model.compile(loss='categorical_crossentropy', optimizer=\"RMSprop\")"
   ]
  },
  {
   "cell_type": "code",
   "execution_count": 60,
   "metadata": {
    "collapsed": false
   },
   "outputs": [
    {
     "name": "stdout",
     "output_type": "stream",
     "text": [
      "Epoch 1/100\n",
      "71753/71753 [==============================] - 15s - loss: 0.7739    \n",
      "Epoch 2/100\n",
      "71753/71753 [==============================] - 15s - loss: 0.7586    \n",
      "Epoch 3/100\n",
      "71753/71753 [==============================] - 16s - loss: 0.7545    \n",
      "Epoch 4/100\n",
      "71753/71753 [==============================] - 16s - loss: 0.7454    \n",
      "Epoch 5/100\n",
      "71753/71753 [==============================] - 17s - loss: 0.7346    \n",
      "Epoch 6/100\n",
      "71753/71753 [==============================] - 17s - loss: 0.7234    \n",
      "Epoch 7/100\n",
      "71753/71753 [==============================] - 17s - loss: 0.7141    \n",
      "Epoch 8/100\n",
      "71753/71753 [==============================] - 17s - loss: 0.7121    \n",
      "Epoch 9/100\n",
      "71753/71753 [==============================] - 17s - loss: 0.7004    \n",
      "Epoch 10/100\n",
      "71753/71753 [==============================] - 17s - loss: 0.6962    \n",
      "Epoch 11/100\n",
      "71753/71753 [==============================] - 17s - loss: 0.6910    \n",
      "Epoch 12/100\n",
      "71753/71753 [==============================] - 17s - loss: 0.6788    \n",
      "Epoch 13/100\n",
      "71753/71753 [==============================] - 18s - loss: 0.6739    \n",
      "Epoch 14/100\n",
      "71753/71753 [==============================] - 18s - loss: 0.6721    \n",
      "Epoch 15/100\n",
      "71753/71753 [==============================] - 18s - loss: 0.6637    \n",
      "Epoch 16/100\n",
      "71753/71753 [==============================] - 17s - loss: 0.6599    \n",
      "Epoch 17/100\n",
      "71753/71753 [==============================] - 19s - loss: 0.6500    \n",
      "Epoch 18/100\n",
      "71753/71753 [==============================] - 19s - loss: 0.6486    \n",
      "Epoch 19/100\n",
      "71753/71753 [==============================] - 19s - loss: 0.6473    \n",
      "Epoch 20/100\n",
      "71753/71753 [==============================] - 19s - loss: 0.6400    \n",
      "Epoch 21/100\n",
      "71753/71753 [==============================] - 19s - loss: 0.6311    \n",
      "Epoch 22/100\n",
      "71753/71753 [==============================] - 19s - loss: 0.6272    \n",
      "Epoch 23/100\n",
      "71753/71753 [==============================] - 19s - loss: 0.6240    \n",
      "Epoch 24/100\n",
      "71753/71753 [==============================] - 19s - loss: 0.6214    \n",
      "Epoch 25/100\n",
      "71753/71753 [==============================] - 19s - loss: 0.6206    \n",
      "Epoch 26/100\n",
      "71753/71753 [==============================] - 19s - loss: 0.6124    \n",
      "Epoch 27/100\n",
      "71753/71753 [==============================] - 19s - loss: 0.6118    \n",
      "Epoch 28/100\n",
      "71753/71753 [==============================] - 19s - loss: 0.6099    \n",
      "Epoch 29/100\n",
      "71753/71753 [==============================] - 19s - loss: 0.6075    \n",
      "Epoch 30/100\n",
      "71753/71753 [==============================] - 19s - loss: 0.5964    \n",
      "Epoch 31/100\n",
      "71753/71753 [==============================] - 18s - loss: 0.5930    \n",
      "Epoch 32/100\n",
      "71753/71753 [==============================] - 18s - loss: 0.5921    \n",
      "Epoch 33/100\n",
      "71753/71753 [==============================] - 18s - loss: 0.5901    \n",
      "Epoch 34/100\n",
      "71753/71753 [==============================] - 19s - loss: 0.5863    \n",
      "Epoch 35/100\n",
      "71753/71753 [==============================] - 18s - loss: 0.5856    \n",
      "Epoch 36/100\n",
      "71753/71753 [==============================] - 19s - loss: 0.5822    \n",
      "Epoch 37/100\n",
      "71753/71753 [==============================] - 19s - loss: 0.5787    \n",
      "Epoch 38/100\n",
      "71753/71753 [==============================] - 19s - loss: 0.5735    \n",
      "Epoch 39/100\n",
      "71753/71753 [==============================] - 19s - loss: 0.5718    \n",
      "Epoch 40/100\n",
      "71753/71753 [==============================] - 19s - loss: 0.5699    \n",
      "Epoch 41/100\n",
      "71753/71753 [==============================] - 19s - loss: 0.5671    \n",
      "Epoch 42/100\n",
      "71753/71753 [==============================] - 20s - loss: 0.5613    \n",
      "Epoch 43/100\n",
      "71753/71753 [==============================] - 21s - loss: 0.5615    \n",
      "Epoch 44/100\n",
      "71753/71753 [==============================] - 22s - loss: 0.5635    \n",
      "Epoch 45/100\n",
      "71753/71753 [==============================] - 21s - loss: 0.5569    \n",
      "Epoch 46/100\n",
      "71753/71753 [==============================] - 21s - loss: 0.5533    \n",
      "Epoch 47/100\n",
      "71753/71753 [==============================] - 22s - loss: 0.5523    \n",
      "Epoch 48/100\n",
      "71753/71753 [==============================] - 22s - loss: 0.5500    \n",
      "Epoch 49/100\n",
      "71753/71753 [==============================] - 22s - loss: 0.5462    \n",
      "Epoch 50/100\n",
      "71753/71753 [==============================] - 23s - loss: 0.5443    \n",
      "Epoch 51/100\n",
      "71753/71753 [==============================] - 22s - loss: 0.5408    \n",
      "Epoch 52/100\n",
      "71753/71753 [==============================] - 22s - loss: 0.5376    \n",
      "Epoch 53/100\n",
      "71753/71753 [==============================] - 20s - loss: 0.5358    \n",
      "Epoch 54/100\n",
      "71753/71753 [==============================] - 17s - loss: 0.5337    \n",
      "Epoch 55/100\n",
      "71753/71753 [==============================] - 18s - loss: 0.5348    \n",
      "Epoch 56/100\n",
      "71753/71753 [==============================] - 19s - loss: 0.5330    \n",
      "Epoch 57/100\n",
      "71753/71753 [==============================] - 19s - loss: 0.5274    \n",
      "Epoch 58/100\n",
      "71753/71753 [==============================] - 19s - loss: 0.5240    \n",
      "Epoch 59/100\n",
      "71753/71753 [==============================] - 19s - loss: 0.5237    \n",
      "Epoch 60/100\n",
      "71753/71753 [==============================] - 20s - loss: 0.5274    \n",
      "Epoch 61/100\n",
      "71753/71753 [==============================] - 19s - loss: 0.5211    \n",
      "Epoch 62/100\n",
      "71753/71753 [==============================] - 20s - loss: 0.5212    \n",
      "Epoch 63/100\n",
      "71753/71753 [==============================] - 19s - loss: 0.5196    \n",
      "Epoch 64/100\n",
      "71753/71753 [==============================] - 19s - loss: 0.5091    \n",
      "Epoch 65/100\n",
      "71753/71753 [==============================] - 19s - loss: 0.5158    \n",
      "Epoch 66/100\n",
      "71753/71753 [==============================] - 19s - loss: 0.5141    \n",
      "Epoch 67/100\n",
      "71753/71753 [==============================] - 19s - loss: 0.5140    \n",
      "Epoch 68/100\n",
      "71753/71753 [==============================] - 20s - loss: 0.5099    \n",
      "Epoch 69/100\n",
      "71753/71753 [==============================] - 19s - loss: 0.5095    \n",
      "Epoch 70/100\n",
      "71753/71753 [==============================] - 19s - loss: 0.5042    \n",
      "Epoch 71/100\n",
      "71753/71753 [==============================] - 19s - loss: 0.5035    \n",
      "Epoch 72/100\n",
      "71753/71753 [==============================] - 19s - loss: 0.5019    \n",
      "Epoch 73/100\n",
      "71753/71753 [==============================] - 19s - loss: 0.4942    \n",
      "Epoch 74/100\n",
      "71753/71753 [==============================] - 19s - loss: 0.4982    \n",
      "Epoch 75/100\n",
      "71753/71753 [==============================] - 19s - loss: 0.5003    \n",
      "Epoch 76/100\n",
      "71753/71753 [==============================] - 19s - loss: 0.4941    \n",
      "Epoch 77/100\n",
      "71753/71753 [==============================] - 19s - loss: 0.4966    \n",
      "Epoch 78/100\n",
      "71753/71753 [==============================] - 19s - loss: 0.4934    \n",
      "Epoch 79/100\n",
      "71753/71753 [==============================] - 19s - loss: 0.4932    \n",
      "Epoch 80/100\n",
      "71753/71753 [==============================] - 19s - loss: 0.4924    \n",
      "Epoch 81/100\n",
      "71753/71753 [==============================] - 19s - loss: 0.4896    \n",
      "Epoch 82/100\n",
      "71753/71753 [==============================] - 19s - loss: 0.4875    \n",
      "Epoch 83/100\n",
      "71753/71753 [==============================] - 19s - loss: 0.4878    \n",
      "Epoch 84/100\n",
      "71753/71753 [==============================] - 19s - loss: 0.4843    \n",
      "Epoch 85/100\n",
      "71753/71753 [==============================] - 19s - loss: 0.4817    \n",
      "Epoch 86/100\n",
      "71753/71753 [==============================] - 19s - loss: 0.4856    \n",
      "Epoch 87/100\n",
      "71753/71753 [==============================] - 19s - loss: 0.4811    \n",
      "Epoch 88/100\n",
      "71753/71753 [==============================] - 19s - loss: 0.4808    \n",
      "Epoch 89/100\n",
      "71753/71753 [==============================] - 18s - loss: 0.4753    \n",
      "Epoch 90/100\n",
      "71753/71753 [==============================] - 19s - loss: 0.4776    \n",
      "Epoch 91/100\n",
      "71753/71753 [==============================] - 19s - loss: 0.4807    \n",
      "Epoch 92/100\n",
      "71753/71753 [==============================] - 19s - loss: 0.4770    \n",
      "Epoch 93/100\n",
      "71753/71753 [==============================] - 19s - loss: 0.4788    \n",
      "Epoch 94/100\n",
      "71753/71753 [==============================] - 18s - loss: 0.4768    \n",
      "Epoch 95/100\n",
      "71753/71753 [==============================] - 18s - loss: 0.4733    \n",
      "Epoch 96/100\n",
      "71753/71753 [==============================] - 18s - loss: 0.4728    \n",
      "Epoch 97/100\n",
      "71753/71753 [==============================] - 19s - loss: 0.4711    \n",
      "Epoch 98/100\n",
      "71753/71753 [==============================] - 19s - loss: 0.4687    \n",
      "Epoch 99/100\n",
      "71753/71753 [==============================] - 19s - loss: 0.4670    \n",
      "Epoch 100/100\n",
      "71753/71753 [==============================] - 19s - loss: 0.4648    \n"
     ]
    },
    {
     "data": {
      "text/plain": [
       "<keras.callbacks.History at 0x11b67cbe0>"
      ]
     },
     "execution_count": 60,
     "metadata": {},
     "output_type": "execute_result"
    }
   ],
   "source": [
    "model.fit(X_train_, y_train_, nb_epoch=10, batch_size=100)"
   ]
  },
  {
   "cell_type": "code",
   "execution_count": 61,
   "metadata": {
    "collapsed": false
   },
   "outputs": [
    {
     "data": {
      "text/plain": [
       "0.97176919177495635"
      ]
     },
     "execution_count": 61,
     "metadata": {},
     "output_type": "execute_result"
    }
   ],
   "source": [
    "predicted = model.predict(X_val)\n",
    "log_loss(y_true=y_val, y_pred=predicted)"
   ]
  },
  {
   "cell_type": "code",
   "execution_count": null,
   "metadata": {
    "collapsed": true
   },
   "outputs": [],
   "source": [
    "# if making final prediction\n",
    "predicted = model.predict(X_test.as_matrix())\n",
    "predicted = pd.DataFrame(predicted)\n",
    "predicted = pd.concat([submission_sample.VisitNumber, predicted],axis=1)\n",
    "predicted.columns = submission_sample.columns"
   ]
  },
  {
   "cell_type": "code",
   "execution_count": null,
   "metadata": {
    "collapsed": true
   },
   "outputs": [],
   "source": [
    "predicted.to_csv('submission_test.csv', index=False)"
   ]
  }
 ],
 "metadata": {
  "kernelspec": {
   "display_name": "Python 3",
   "language": "python",
   "name": "python3"
  },
  "language_info": {
   "codemirror_mode": {
    "name": "ipython",
    "version": 3
   },
   "file_extension": ".py",
   "mimetype": "text/x-python",
   "name": "python",
   "nbconvert_exporter": "python",
   "pygments_lexer": "ipython3",
   "version": "3.5.1"
  }
 },
 "nbformat": 4,
 "nbformat_minor": 0
}
