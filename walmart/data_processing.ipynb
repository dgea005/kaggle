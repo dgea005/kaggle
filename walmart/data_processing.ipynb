{
 "cells": [
  {
   "cell_type": "code",
   "execution_count": 1,
   "metadata": {
    "collapsed": false
   },
   "outputs": [
    {
     "name": "stderr",
     "output_type": "stream",
     "text": [
      "/Users/danielg/anaconda/envs/py35/lib/python3.5/site-packages/sklearn/utils/fixes.py:64: DeprecationWarning: inspect.getargspec() is deprecated, use inspect.signature() instead\n",
      "  if 'order' in inspect.getargspec(np.copy)[0]:\n"
     ]
    }
   ],
   "source": [
    "import numpy as np\n",
    "import pandas as pd\n",
    "from sklearn.cross_validation import StratifiedShuffleSplit"
   ]
  },
  {
   "cell_type": "code",
   "execution_count": 2,
   "metadata": {
    "collapsed": true
   },
   "outputs": [],
   "source": [
    "submission_sample = pd.read_csv(\"data/sample_submission.csv\")\n",
    "train = pd.read_csv(\"data/train.csv\")\n",
    "test = pd.read_csv(\"data/test.csv\")"
   ]
  },
  {
   "cell_type": "code",
   "execution_count": 3,
   "metadata": {
    "collapsed": true
   },
   "outputs": [],
   "source": [
    "# create id - does this actually get used - should really be able to use VisitNumber\n",
    "train['id'] = train.index.values\n",
    "test['id'] = test.index.values"
   ]
  },
  {
   "cell_type": "code",
   "execution_count": 4,
   "metadata": {
    "collapsed": true
   },
   "outputs": [],
   "source": [
    "# could create variable with number of items per visit???\n",
    "# will probably be quite useful??\n",
    "    # will be able to create other variables like: departmenttype flat, etc - so quite a lot of other variables\n",
    "\n",
    "unique_trip_items_train = train.groupby(['VisitNumber']).agg({'id': len})\n",
    "unique_trip_items_train.columns = ['unique_trip_items']\n",
    "\n",
    "unique_trip_items_test = test.groupby(['VisitNumber']).agg({'id': len})\n",
    "unique_trip_items_test.columns = ['unique_trip_items']\n",
    "\n",
    "# also total number by the scancounts...\n",
    "trip_scancount_total_train = train.groupby(['VisitNumber']).agg({'ScanCount': sum})\n",
    "trip_scancount_total_train.columns = ['ScanCount_total']\n",
    "\n",
    "trip_scancount_total_test = test.groupby(['VisitNumber']).agg({'ScanCount': sum})\n",
    "trip_scancount_total_test.columns = ['ScanCount_total']"
   ]
  },
  {
   "cell_type": "code",
   "execution_count": 5,
   "metadata": {
    "collapsed": true
   },
   "outputs": [],
   "source": [
    "train = train.merge(unique_trip_items_train, left_on='VisitNumber', right_index=True)\n",
    "train = train.merge(trip_scancount_total_train, left_on=\"VisitNumber\", right_index=True)\n",
    "test = test.merge(unique_trip_items_test, left_on=\"VisitNumber\", right_index=True)\n",
    "test = test.merge(trip_scancount_total_test, left_on=\"VisitNumber\", right_index=True)"
   ]
  },
  {
   "cell_type": "code",
   "execution_count": 6,
   "metadata": {
    "collapsed": true
   },
   "outputs": [],
   "source": [
    "#\n",
    "# missing value imputation\n",
    "#\n",
    "\n",
    "# will set missing FinelineNumber to -1\n",
    "train.FinelineNumber = train.FinelineNumber.fillna(-1)\n",
    "test.FinelineNumber = test.FinelineNumber.fillna(-1)\n",
    "# will set missing Upc to 0\n",
    "train.Upc = train.Upc.fillna(0)\n",
    "test.Upc = test.Upc.fillna(0)\n",
    "# will set missing DepartmentDescription to Missing\n",
    "train.DepartmentDescription = train.DepartmentDescription.fillna(\"missing\")\n",
    "test.DepartmentDescription = test.DepartmentDescription.fillna(\"missing\")"
   ]
  },
  {
   "cell_type": "code",
   "execution_count": 7,
   "metadata": {
    "collapsed": true
   },
   "outputs": [],
   "source": [
    "train_grouped = train.groupby(\"VisitNumber\", as_index=False).agg({'Weekday': lambda x: x.unique(),\n",
    "                               'id': len,\n",
    "                              'ScanCount': sum,\n",
    "                             'TripType': lambda x: x.unique()})\n",
    "\n",
    "test_grouped = test.groupby(\"VisitNumber\", as_index=False).agg({'Weekday': lambda x: x.unique(),\n",
    "                               'id': len,\n",
    "                              'ScanCount': sum})"
   ]
  },
  {
   "cell_type": "code",
   "execution_count": 8,
   "metadata": {
    "collapsed": false
   },
   "outputs": [],
   "source": [
    "train_grouped = train_grouped.set_index(\"VisitNumber\")\n",
    "X_test = test_grouped.set_index(\"VisitNumber\")"
   ]
  },
  {
   "cell_type": "code",
   "execution_count": 9,
   "metadata": {
    "collapsed": true
   },
   "outputs": [],
   "source": [
    "X_train = train_grouped.drop(\"TripType\",axis=1)\n",
    "y_train = train_grouped.TripType"
   ]
  },
  {
   "cell_type": "code",
   "execution_count": 10,
   "metadata": {
    "collapsed": false
   },
   "outputs": [],
   "source": [
    "#\n",
    "# Day of week feature\n",
    "#\n",
    "\n",
    "days = X_train.Weekday.unique()\n",
    "for day in days:\n",
    "    X_train[str(day)] = (X_train.Weekday == str(day)).astype(int)\n",
    "X_train = X_train.drop(\"Weekday\",axis=1)\n",
    "\n",
    "days = X_test.Weekday.unique()\n",
    "for day in days:\n",
    "    X_test[str(day)] = (X_test.Weekday == str(day)).astype(int)\n",
    "X_test = X_test.drop(\"Weekday\",axis=1)"
   ]
  },
  {
   "cell_type": "markdown",
   "metadata": {},
   "source": [
    "#### department features"
   ]
  },
  {
   "cell_type": "code",
   "execution_count": 11,
   "metadata": {
    "collapsed": false
   },
   "outputs": [
    {
     "data": {
      "text/plain": [
       "True"
      ]
     },
     "execution_count": 11,
     "metadata": {},
     "output_type": "execute_result"
    }
   ],
   "source": [
    "department_crosstab = pd.crosstab(train.VisitNumber, train.DepartmentDescription)\n",
    "# sort index because the order of the columns needs to be identical in test and train\n",
    "X_train = X_train.merge(department_crosstab.sort_index(axis=1), left_index=True, right_index=True)\n",
    "department_crosstab_test = pd.crosstab(test.VisitNumber, test.DepartmentDescription)\n",
    "# how to get missing columns that are IN the training but NOT test\n",
    "# \n",
    "missing_col_test = department_crosstab.columns[~department_crosstab.columns.isin(department_crosstab_test.columns)].values[0]\n",
    "# need to add the columns\n",
    "department_crosstab_test[missing_col_test] = 0\n",
    "X_test = X_test.merge(department_crosstab_test.sort_index(axis=1), left_index=True, right_index=True)\n",
    "# need to make sure that all of the columns match\n",
    "all(X_train.columns == X_test.columns)"
   ]
  },
  {
   "cell_type": "markdown",
   "metadata": {},
   "source": [
    "#### fineline features"
   ]
  },
  {
   "cell_type": "code",
   "execution_count": 12,
   "metadata": {
    "collapsed": false
   },
   "outputs": [
    {
     "data": {
      "text/html": [
       "<div>\n",
       "<table border=\"1\" class=\"dataframe\">\n",
       "  <thead>\n",
       "    <tr style=\"text-align: right;\">\n",
       "      <th></th>\n",
       "      <th>TripType</th>\n",
       "      <th>VisitNumber</th>\n",
       "      <th>Weekday</th>\n",
       "      <th>Upc</th>\n",
       "      <th>ScanCount</th>\n",
       "      <th>DepartmentDescription</th>\n",
       "      <th>FinelineNumber</th>\n",
       "      <th>id</th>\n",
       "      <th>unique_trip_items</th>\n",
       "      <th>ScanCount_total</th>\n",
       "    </tr>\n",
       "  </thead>\n",
       "  <tbody>\n",
       "    <tr>\n",
       "      <th>0</th>\n",
       "      <td>999</td>\n",
       "      <td>5</td>\n",
       "      <td>Friday</td>\n",
       "      <td>68113152929</td>\n",
       "      <td>-1</td>\n",
       "      <td>FINANCIAL SERVICES</td>\n",
       "      <td>1000</td>\n",
       "      <td>0</td>\n",
       "      <td>1</td>\n",
       "      <td>-1</td>\n",
       "    </tr>\n",
       "    <tr>\n",
       "      <th>1</th>\n",
       "      <td>30</td>\n",
       "      <td>7</td>\n",
       "      <td>Friday</td>\n",
       "      <td>60538815980</td>\n",
       "      <td>1</td>\n",
       "      <td>SHOES</td>\n",
       "      <td>8931</td>\n",
       "      <td>1</td>\n",
       "      <td>2</td>\n",
       "      <td>2</td>\n",
       "    </tr>\n",
       "  </tbody>\n",
       "</table>\n",
       "</div>"
      ],
      "text/plain": [
       "   TripType  VisitNumber Weekday          Upc  ScanCount  \\\n",
       "0       999            5  Friday  68113152929         -1   \n",
       "1        30            7  Friday  60538815980          1   \n",
       "\n",
       "  DepartmentDescription  FinelineNumber  id  unique_trip_items  \\\n",
       "0    FINANCIAL SERVICES            1000   0                  1   \n",
       "1                 SHOES            8931   1                  2   \n",
       "\n",
       "   ScanCount_total  \n",
       "0               -1  \n",
       "1                2  "
      ]
     },
     "execution_count": 12,
     "metadata": {},
     "output_type": "execute_result"
    }
   ],
   "source": [
    "train.head(2)"
   ]
  },
  {
   "cell_type": "code",
   "execution_count": 13,
   "metadata": {
    "collapsed": true
   },
   "outputs": [],
   "source": [
    "# integrate fineline data\n",
    "\n",
    "# want to do the same for FineLinenumber\n",
    "fineline_train_crosstab = pd.crosstab(train.VisitNumber, train.FinelineNumber)\n",
    "fineline_test_crosstab = pd.crosstab(test.VisitNumber, test.FinelineNumber)"
   ]
  },
  {
   "cell_type": "code",
   "execution_count": 14,
   "metadata": {
    "collapsed": false
   },
   "outputs": [
    {
     "data": {
      "text/plain": [
       "True"
      ]
     },
     "execution_count": 14,
     "metadata": {},
     "output_type": "execute_result"
    }
   ],
   "source": [
    "fineline_not_in_train = fineline_test_crosstab.columns[~fineline_test_crosstab.columns.isin(fineline_train_crosstab.columns)].values\n",
    "fineline_test_crosstab = fineline_test_crosstab.drop(fineline_not_in_train,axis=1)\n",
    "# want to drop train columns that are not contained in test\n",
    "# need a 'not in test' variable\n",
    "fineline_not_in_test = fineline_train_crosstab.columns[~fineline_train_crosstab.columns.isin(fineline_test_crosstab.columns)].values\n",
    "fineline_train_crosstab = fineline_train_crosstab.drop(fineline_not_in_test,axis=1)\n",
    "# need to make sure that all of these match\n",
    "all(fineline_test_crosstab.columns == fineline_train_crosstab.columns)"
   ]
  },
  {
   "cell_type": "code",
   "execution_count": 16,
   "metadata": {
    "collapsed": false
   },
   "outputs": [],
   "source": [
    "# switching this over to test sums - to emphasise this...??\n",
    "\n",
    "# have a column mismatch need to fix this ....‚\n",
    "fineline_ordered_sums = fineline_train_crosstab.sum(0).sort_values(ascending=False).iloc[0:100]\n",
    "finelines_incl = fineline_ordered_sums.index\n",
    "# .iloc[0:1000]"
   ]
  },
  {
   "cell_type": "code",
   "execution_count": 17,
   "metadata": {
    "collapsed": true
   },
   "outputs": [],
   "source": [
    "fineline_train_crosstab_reduced = fineline_train_crosstab.loc[:,finelines_incl]\n",
    "fineline_test_crosstab_reduced = fineline_test_crosstab.loc[:,finelines_incl]"
   ]
  },
  {
   "cell_type": "code",
   "execution_count": 18,
   "metadata": {
    "collapsed": false
   },
   "outputs": [],
   "source": [
    "# merge into fineline one hot encoded into X_train and X_test\n",
    "X_train = X_train.merge(fineline_train_crosstab_reduced, left_index=True, right_index=True)\n",
    "X_test = X_test.merge(fineline_test_crosstab_reduced, left_index=True, right_index=True)"
   ]
  },
  {
   "cell_type": "markdown",
   "metadata": {},
   "source": [
    "#### upc feature"
   ]
  },
  {
   "cell_type": "code",
   "execution_count": null,
   "metadata": {
    "collapsed": true
   },
   "outputs": [],
   "source": [
    "upc_train_crosstab = pd.crosstab(train.VisitNumber, train.Upc)\n",
    "upc_test_crosstab = pd.crosstab(test.VisitNumber, test.Upc)"
   ]
  },
  {
   "cell_type": "code",
   "execution_count": 29,
   "metadata": {
    "collapsed": false
   },
   "outputs": [
    {
     "data": {
      "text/plain": [
       "4011           7657\n",
       "0              4129\n",
       "60538862097    2501\n",
       "7874235186     2067\n",
       "7874235187     1883\n",
       "4046           1652\n",
       "68113107862    1515\n",
       "60538871457    1487\n",
       "3338320027     1405\n",
       "4087           1370\n",
       "60538871461    1343\n",
       "4900000044     1018\n",
       "4062            973\n",
       "4065            953\n",
       "4900003165      896\n",
       "3338365020      856\n",
       "7874235188      828\n",
       "4900005010      815\n",
       "68113163351     778\n",
       "60538896309     778\n",
       "4078            750\n",
       "69922162117     745\n",
       "7874211433      719\n",
       "4093            698\n",
       "4900000977      697\n",
       "20966500000     686\n",
       "60538819035     644\n",
       "7874235201      622\n",
       "4051            620\n",
       "7225003706      618\n",
       "               ... \n",
       "68113189617     378\n",
       "4900002890      376\n",
       "61126999100     372\n",
       "4000042431      370\n",
       "7874298393      365\n",
       "1200080994      364\n",
       "7225003712      363\n",
       "9518801128      360\n",
       "4900001278      360\n",
       "4900005015      357\n",
       "68113102889     357\n",
       "7874203952      356\n",
       "4693            345\n",
       "3338311000      343\n",
       "3338360002      343\n",
       "4900001916      338\n",
       "8265750406      332\n",
       "30521500700     328\n",
       "4029            326\n",
       "7432309750      324\n",
       "68113178253     323\n",
       "7763304737      316\n",
       "3040077852      313\n",
       "2100061526      311\n",
       "7539100470      311\n",
       "60538800144     309\n",
       "7104113636      308\n",
       "20577400000     304\n",
       "4900005025      302\n",
       "4400003214      301\n",
       "Name: Upc, dtype: int64"
      ]
     },
     "execution_count": 29,
     "metadata": {},
     "output_type": "execute_result"
    }
   ],
   "source": [
    "train.Upc.value_counts().iloc[0:100]"
   ]
  },
  {
   "cell_type": "markdown",
   "metadata": {},
   "source": [
    "#### check columns in test and train\n",
    "\n",
    "Need to match or the model will not work"
   ]
  },
  {
   "cell_type": "code",
   "execution_count": 19,
   "metadata": {
    "collapsed": false
   },
   "outputs": [],
   "source": [
    "assert all(X_train.columns == X_test.columns)"
   ]
  },
  {
   "cell_type": "markdown",
   "metadata": {},
   "source": [
    "#### create final csv"
   ]
  },
  {
   "cell_type": "code",
   "execution_count": 20,
   "metadata": {
    "collapsed": false
   },
   "outputs": [],
   "source": [
    "y_train = pd.DataFrame({\"TripType\":y_train})"
   ]
  },
  {
   "cell_type": "code",
   "execution_count": 21,
   "metadata": {
    "collapsed": false
   },
   "outputs": [],
   "source": [
    "X_train.to_csv(\"data/model_inputs/X_train.csv\")"
   ]
  },
  {
   "cell_type": "code",
   "execution_count": 22,
   "metadata": {
    "collapsed": false
   },
   "outputs": [],
   "source": [
    "X_test.to_csv(\"data/model_inputs/X_test.csv\")"
   ]
  },
  {
   "cell_type": "code",
   "execution_count": 23,
   "metadata": {
    "collapsed": true
   },
   "outputs": [],
   "source": [
    "y_train.to_csv(\"data/model_inputs/y_train.csv\")"
   ]
  },
  {
   "cell_type": "code",
   "execution_count": null,
   "metadata": {
    "collapsed": false
   },
   "outputs": [],
   "source": [
    "train.head(1)"
   ]
  },
  {
   "cell_type": "code",
   "execution_count": null,
   "metadata": {
    "collapsed": true
   },
   "outputs": [],
   "source": []
  }
 ],
 "metadata": {
  "kernelspec": {
   "display_name": "Python 3",
   "language": "python",
   "name": "python3"
  },
  "language_info": {
   "codemirror_mode": {
    "name": "ipython",
    "version": 3
   },
   "file_extension": ".py",
   "mimetype": "text/x-python",
   "name": "python",
   "nbconvert_exporter": "python",
   "pygments_lexer": "ipython3",
   "version": "3.5.1"
  }
 },
 "nbformat": 4,
 "nbformat_minor": 0
}
