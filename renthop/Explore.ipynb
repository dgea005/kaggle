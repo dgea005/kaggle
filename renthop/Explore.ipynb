{
 "cells": [
  {
   "cell_type": "markdown",
   "metadata": {},
   "source": [
    "# Explore renthop data\n",
    "\n",
    "\n",
    "The target variable, interest_level, is defined by the number of inquiries a listing has in the duration that the listing was live on the site. \n",
    "\n"
   ]
  },
  {
   "cell_type": "code",
   "execution_count": 2,
   "metadata": {
    "collapsed": false
   },
   "outputs": [],
   "source": [
    "%matplotlib inline\n",
    "import numpy as np\n",
    "import matplotlib.pyplot as plt\n",
    "import pandas as pd\n",
    "import seaborn as sns\n",
    "from mpl_toolkits.basemap import Basemap"
   ]
  },
  {
   "cell_type": "code",
   "execution_count": 3,
   "metadata": {
    "collapsed": false
   },
   "outputs": [],
   "source": [
    "train = pd.read_json('data/train.json')\n",
    "train = train.set_index('listing_id')\n",
    "train['created'] = pd.to_datetime(train['created'])"
   ]
  },
  {
   "cell_type": "code",
   "execution_count": 4,
   "metadata": {
    "collapsed": false
   },
   "outputs": [
    {
     "data": {
      "text/plain": [
       "(49352, 14)"
      ]
     },
     "execution_count": 4,
     "metadata": {},
     "output_type": "execute_result"
    }
   ],
   "source": [
    "train.shape"
   ]
  },
  {
   "cell_type": "code",
   "execution_count": 5,
   "metadata": {
    "collapsed": false
   },
   "outputs": [
    {
     "data": {
      "text/plain": [
       "Index(['bathrooms', 'bedrooms', 'building_id', 'created', 'description',\n",
       "       'display_address', 'features', 'interest_level', 'latitude',\n",
       "       'longitude', 'manager_id', 'photos', 'price', 'street_address'],\n",
       "      dtype='object')"
      ]
     },
     "execution_count": 5,
     "metadata": {},
     "output_type": "execute_result"
    }
   ],
   "source": [
    "train.columns"
   ]
  },
  {
   "cell_type": "code",
   "execution_count": 6,
   "metadata": {
    "collapsed": true
   },
   "outputs": [],
   "source": [
    "# what is submitted?\n",
    "\n",
    "submission = pd.read_csv('data/sample_submission.csv.zip', compression='zip')"
   ]
  },
  {
   "cell_type": "code",
   "execution_count": 7,
   "metadata": {
    "collapsed": false
   },
   "outputs": [
    {
     "data": {
      "text/html": [
       "<div>\n",
       "<table border=\"1\" class=\"dataframe\">\n",
       "  <thead>\n",
       "    <tr style=\"text-align: right;\">\n",
       "      <th></th>\n",
       "      <th>listing_id</th>\n",
       "      <th>high</th>\n",
       "      <th>medium</th>\n",
       "      <th>low</th>\n",
       "    </tr>\n",
       "  </thead>\n",
       "  <tbody>\n",
       "    <tr>\n",
       "      <th>0</th>\n",
       "      <td>7142618</td>\n",
       "      <td>0.077788</td>\n",
       "      <td>0.227529</td>\n",
       "      <td>0.694683</td>\n",
       "    </tr>\n",
       "    <tr>\n",
       "      <th>1</th>\n",
       "      <td>7210040</td>\n",
       "      <td>0.077788</td>\n",
       "      <td>0.227529</td>\n",
       "      <td>0.694683</td>\n",
       "    </tr>\n",
       "    <tr>\n",
       "      <th>2</th>\n",
       "      <td>7174566</td>\n",
       "      <td>0.077788</td>\n",
       "      <td>0.227529</td>\n",
       "      <td>0.694683</td>\n",
       "    </tr>\n",
       "  </tbody>\n",
       "</table>\n",
       "</div>"
      ],
      "text/plain": [
       "   listing_id      high    medium       low\n",
       "0     7142618  0.077788  0.227529  0.694683\n",
       "1     7210040  0.077788  0.227529  0.694683\n",
       "2     7174566  0.077788  0.227529  0.694683"
      ]
     },
     "execution_count": 7,
     "metadata": {},
     "output_type": "execute_result"
    }
   ],
   "source": [
    "# for each listing_id will be generating probabilities for each of high, medium , low\n",
    "submission.head(3)"
   ]
  },
  {
   "cell_type": "code",
   "execution_count": 8,
   "metadata": {
    "collapsed": false
   },
   "outputs": [
    {
     "data": {
      "text/plain": [
       "low       0.694683\n",
       "medium    0.227529\n",
       "high      0.077788\n",
       "Name: interest_level, dtype: float64"
      ]
     },
     "execution_count": 8,
     "metadata": {},
     "output_type": "execute_result"
    }
   ],
   "source": [
    "# sample submission is just the proportions of interest as in the training set\n",
    "train_proportions = train.interest_level.value_counts(normalize=True)\n",
    "train_proportions"
   ]
  },
  {
   "cell_type": "markdown",
   "metadata": {},
   "source": [
    "# evaluation\n",
    "\n",
    "multi-class logarithmic loss. \n",
    "\n"
   ]
  },
  {
   "cell_type": "code",
   "execution_count": 9,
   "metadata": {
    "collapsed": true
   },
   "outputs": [],
   "source": [
    "from sklearn import metrics"
   ]
  },
  {
   "cell_type": "code",
   "execution_count": 10,
   "metadata": {
    "collapsed": false
   },
   "outputs": [
    {
     "data": {
      "text/html": [
       "<div>\n",
       "<table border=\"1\" class=\"dataframe\">\n",
       "  <thead>\n",
       "    <tr style=\"text-align: right;\">\n",
       "      <th></th>\n",
       "      <th>high</th>\n",
       "      <th>listing_id</th>\n",
       "      <th>low</th>\n",
       "      <th>medium</th>\n",
       "    </tr>\n",
       "  </thead>\n",
       "  <tbody>\n",
       "    <tr>\n",
       "      <th>0</th>\n",
       "      <td>0.077788</td>\n",
       "      <td>7211212</td>\n",
       "      <td>0.694683</td>\n",
       "      <td>0.227529</td>\n",
       "    </tr>\n",
       "  </tbody>\n",
       "</table>\n",
       "</div>"
      ],
      "text/plain": [
       "       high  listing_id       low    medium\n",
       "0  0.077788     7211212  0.694683  0.227529"
      ]
     },
     "execution_count": 10,
     "metadata": {},
     "output_type": "execute_result"
    }
   ],
   "source": [
    "predictions = pd.DataFrame({'listing_id': train.index.values, \n",
    "              'high': train_proportions['high'],\n",
    "              'medium': train_proportions['medium'],\n",
    "              'low': train_proportions['low']})\n",
    "predictions.head(1)"
   ]
  },
  {
   "cell_type": "code",
   "execution_count": 11,
   "metadata": {
    "collapsed": false
   },
   "outputs": [],
   "source": [
    "predictions = predictions \\\n",
    "                .set_index('listing_id') \\\n",
    "                .assign(actual = train.interest_level)"
   ]
  },
  {
   "cell_type": "code",
   "execution_count": 12,
   "metadata": {
    "collapsed": false
   },
   "outputs": [
    {
     "data": {
      "text/plain": [
       "0.78857691143225461"
      ]
     },
     "execution_count": 12,
     "metadata": {},
     "output_type": "execute_result"
    }
   ],
   "source": [
    "metrics.log_loss(predictions.actual, predictions.drop('actual', 1).values)"
   ]
  },
  {
   "cell_type": "markdown",
   "metadata": {},
   "source": [
    "# data exploration"
   ]
  },
  {
   "cell_type": "markdown",
   "metadata": {},
   "source": [
    "## some distributions"
   ]
  },
  {
   "cell_type": "code",
   "execution_count": 13,
   "metadata": {
    "collapsed": false
   },
   "outputs": [
    {
     "data": {
      "text/plain": [
       "<matplotlib.text.Text at 0x13b52fe48>"
      ]
     },
     "execution_count": 13,
     "metadata": {},
     "output_type": "execute_result"
    },
    {
     "data": {
      "image/png": "[encoded data removed]",
      "text/plain": [
       "<matplotlib.figure.Figure at 0x13b5417b8>"
      ]
     },
     "metadata": {},
     "output_type": "display_data"
    }
   ],
   "source": [
    "train.bathrooms.value_counts().sort_index().plot.bar()\n",
    "plt.title('Number of bathrooms')"
   ]
  },
  {
   "cell_type": "code",
   "execution_count": 14,
   "metadata": {
    "collapsed": false
   },
   "outputs": [
    {
     "data": {
      "text/plain": [
       "<matplotlib.text.Text at 0x13b267908>"
      ]
     },
     "execution_count": 14,
     "metadata": {},
     "output_type": "execute_result"
    },
    {
     "data": {
      "image/png": "[encoded data removed]",
      "text/plain": [
       "<matplotlib.figure.Figure at 0x13b287198>"
      ]
     },
     "metadata": {},
     "output_type": "display_data"
    }
   ],
   "source": [
    "train.bedrooms.value_counts().sort_index().plot.bar()\n",
    "plt.title('Number of bedrooms')"
   ]
  },
  {
   "cell_type": "code",
   "execution_count": 15,
   "metadata": {
    "collapsed": false
   },
   "outputs": [
    {
     "data": {
      "text/plain": [
       "(9475, 14)"
      ]
     },
     "execution_count": 15,
     "metadata": {},
     "output_type": "execute_result"
    }
   ],
   "source": [
    "## is this missing data or....\n",
    "\n",
    "train.loc[train.bedrooms == 0].shape"
   ]
  },
  {
   "cell_type": "code",
   "execution_count": 16,
   "metadata": {
    "collapsed": false
   },
   "outputs": [
    {
     "data": {
      "text/plain": [
       "low       6518\n",
       "medium    2110\n",
       "high       847\n",
       "Name: interest_level, dtype: int64"
      ]
     },
     "execution_count": 16,
     "metadata": {},
     "output_type": "execute_result"
    }
   ],
   "source": [
    "train.loc[train.bedrooms == 0].interest_level.value_counts()"
   ]
  },
  {
   "cell_type": "code",
   "execution_count": 17,
   "metadata": {
    "collapsed": false
   },
   "outputs": [
    {
     "data": {
      "text/plain": [
       "3481"
      ]
     },
     "execution_count": 17,
     "metadata": {},
     "output_type": "execute_result"
    }
   ],
   "source": [
    "train.manager_id.nunique()"
   ]
  },
  {
   "cell_type": "code",
   "execution_count": 18,
   "metadata": {
    "collapsed": false
   },
   "outputs": [
    {
     "data": {
      "text/plain": [
       "<matplotlib.axes._subplots.AxesSubplot at 0x13b26ec18>"
      ]
     },
     "execution_count": 18,
     "metadata": {},
     "output_type": "execute_result"
    },
    {
     "data": {
      "image/png": "[encoded data removed]",
      "text/plain": [
       "<matplotlib.figure.Figure at 0x13b24f908>"
      ]
     },
     "metadata": {},
     "output_type": "display_data"
    }
   ],
   "source": [
    "train.manager_id.value_counts().value_counts().sort_index().plot.bar(figsize=(14,4))"
   ]
  },
  {
   "cell_type": "code",
   "execution_count": 19,
   "metadata": {
    "collapsed": false
   },
   "outputs": [],
   "source": [
    "## maybe there are some managers that are better at getting higher interest level\n",
    "\n",
    "listings_per_manager_by_interest_level = (train\n",
    ".groupby(['manager_id', 'interest_level'])\n",
    ".size()\n",
    ".reset_index()\n",
    ".pipe(pd.pivot_table, index='manager_id', columns='interest_level', values=0)\n",
    ".fillna(0)\n",
    ".astype(int)[['low', 'medium', 'high']]\n",
    ")"
   ]
  },
  {
   "cell_type": "code",
   "execution_count": 20,
   "metadata": {
    "collapsed": false
   },
   "outputs": [
    {
     "data": {
      "text/plain": [
       "(3481, 3)"
      ]
     },
     "execution_count": 20,
     "metadata": {},
     "output_type": "execute_result"
    }
   ],
   "source": [
    "## how to visualise this?? clustering??\n",
    "\n",
    "listings_per_manager_by_interest_level.shape"
   ]
  },
  {
   "cell_type": "code",
   "execution_count": 21,
   "metadata": {
    "collapsed": false
   },
   "outputs": [],
   "source": [
    "interest_proportions_per_manager = listings_per_manager_by_interest_level.divide(listings_per_manager_by_interest_level.sum(1), axis=0)"
   ]
  },
  {
   "cell_type": "code",
   "execution_count": 22,
   "metadata": {
    "collapsed": false,
    "scrolled": false
   },
   "outputs": [
    {
     "data": {
      "text/plain": [
       "<matplotlib.axes._subplots.AxesSubplot at 0x13b204278>"
      ]
     },
     "execution_count": 22,
     "metadata": {},
     "output_type": "execute_result"
    },
    {
     "data": {
      "image/png": "[encoded data removed]",
      "text/plain": [
       "<matplotlib.figure.Figure at 0x13b222eb8>"
      ]
     },
     "metadata": {},
     "output_type": "display_data"
    }
   ],
   "source": [
    "## there seems to be a bunch that only have low interest listings\n",
    "\n",
    "interest_proportions_per_manager.loc[listings_per_manager_by_interest_level.sum(1) > 10].low.round(1).value_counts().sort_index().plot.bar()"
   ]
  },
  {
   "cell_type": "code",
   "execution_count": 23,
   "metadata": {
    "collapsed": true
   },
   "outputs": [],
   "source": [
    "## create feature of being low interest manager_id"
   ]
  },
  {
   "cell_type": "code",
   "execution_count": 24,
   "metadata": {
    "collapsed": false
   },
   "outputs": [
    {
     "data": {
      "text/plain": [
       "(207,)"
      ]
     },
     "execution_count": 24,
     "metadata": {},
     "output_type": "execute_result"
    }
   ],
   "source": [
    "low_interest_manager_ids = interest_proportions_per_manager.loc[((listings_per_manager_by_interest_level.sum(1) > 10)\n",
    "                                     & (interest_proportions_per_manager.low > 0.95))].index.values\n",
    "low_interest_manager_ids.shape"
   ]
  },
  {
   "cell_type": "code",
   "execution_count": 25,
   "metadata": {
    "collapsed": false
   },
   "outputs": [
    {
     "data": {
      "text/plain": [
       "low       0.989061\n",
       "medium    0.008812\n",
       "high      0.002127\n",
       "Name: interest_level, dtype: float64"
      ]
     },
     "execution_count": 25,
     "metadata": {},
     "output_type": "execute_result"
    }
   ],
   "source": [
    "train[train.manager_id.isin(low_interest_manager_ids)].interest_level.value_counts(normalize=True)"
   ]
  },
  {
   "cell_type": "code",
   "execution_count": 26,
   "metadata": {
    "collapsed": false
   },
   "outputs": [
    {
     "data": {
      "text/html": [
       "<div>\n",
       "<table border=\"1\" class=\"dataframe\">\n",
       "  <thead>\n",
       "    <tr style=\"text-align: right;\">\n",
       "      <th></th>\n",
       "      <th>bathrooms</th>\n",
       "      <th>bedrooms</th>\n",
       "      <th>building_id</th>\n",
       "      <th>created</th>\n",
       "      <th>description</th>\n",
       "      <th>display_address</th>\n",
       "      <th>features</th>\n",
       "      <th>interest_level</th>\n",
       "      <th>latitude</th>\n",
       "      <th>longitude</th>\n",
       "      <th>manager_id</th>\n",
       "      <th>photos</th>\n",
       "      <th>price</th>\n",
       "      <th>street_address</th>\n",
       "      <th>low_interest_manager_id</th>\n",
       "    </tr>\n",
       "    <tr>\n",
       "      <th>listing_id</th>\n",
       "      <th></th>\n",
       "      <th></th>\n",
       "      <th></th>\n",
       "      <th></th>\n",
       "      <th></th>\n",
       "      <th></th>\n",
       "      <th></th>\n",
       "      <th></th>\n",
       "      <th></th>\n",
       "      <th></th>\n",
       "      <th></th>\n",
       "      <th></th>\n",
       "      <th></th>\n",
       "      <th></th>\n",
       "      <th></th>\n",
       "    </tr>\n",
       "  </thead>\n",
       "  <tbody>\n",
       "    <tr>\n",
       "      <th>7211212</th>\n",
       "      <td>1.5</td>\n",
       "      <td>3</td>\n",
       "      <td>53a5b119ba8f7b61d4e010512e0dfc85</td>\n",
       "      <td>2016-06-24 07:54:24</td>\n",
       "      <td>A Brand New 3 Bedroom 1.5 bath ApartmentEnjoy ...</td>\n",
       "      <td>Metropolitan Avenue</td>\n",
       "      <td>[]</td>\n",
       "      <td>medium</td>\n",
       "      <td>40.7145</td>\n",
       "      <td>-73.9425</td>\n",
       "      <td>5ba989232d0489da1b5f2c45f6688adc</td>\n",
       "      <td>[https://photos.renthop.com/2/7211212_1ed4542e...</td>\n",
       "      <td>3000</td>\n",
       "      <td>792 Metropolitan Avenue</td>\n",
       "      <td>0</td>\n",
       "    </tr>\n",
       "  </tbody>\n",
       "</table>\n",
       "</div>"
      ],
      "text/plain": [
       "            bathrooms  bedrooms                       building_id  \\\n",
       "listing_id                                                          \n",
       "7211212           1.5         3  53a5b119ba8f7b61d4e010512e0dfc85   \n",
       "\n",
       "                       created  \\\n",
       "listing_id                       \n",
       "7211212    2016-06-24 07:54:24   \n",
       "\n",
       "                                                  description  \\\n",
       "listing_id                                                      \n",
       "7211212     A Brand New 3 Bedroom 1.5 bath ApartmentEnjoy ...   \n",
       "\n",
       "                display_address features interest_level  latitude  longitude  \\\n",
       "listing_id                                                                     \n",
       "7211212     Metropolitan Avenue       []         medium   40.7145   -73.9425   \n",
       "\n",
       "                                  manager_id  \\\n",
       "listing_id                                     \n",
       "7211212     5ba989232d0489da1b5f2c45f6688adc   \n",
       "\n",
       "                                                       photos  price  \\\n",
       "listing_id                                                             \n",
       "7211212     [https://photos.renthop.com/2/7211212_1ed4542e...   3000   \n",
       "\n",
       "                     street_address  low_interest_manager_id  \n",
       "listing_id                                                    \n",
       "7211212     792 Metropolitan Avenue                        0  "
      ]
     },
     "execution_count": 26,
     "metadata": {},
     "output_type": "execute_result"
    }
   ],
   "source": [
    "## function to create feature that indicates low interest manager id\n",
    "\n",
    "train.loc[:,'low_interest_manager_id'] = 0\n",
    "train.loc[train.manager_id.isin(low_interest_manager_ids), 'low_interest_manager_id'] = 1\n",
    "train.head(1)"
   ]
  },
  {
   "cell_type": "code",
   "execution_count": 27,
   "metadata": {
    "collapsed": false
   },
   "outputs": [
    {
     "data": {
      "text/plain": [
       "6582"
      ]
     },
     "execution_count": 27,
     "metadata": {},
     "output_type": "execute_result"
    }
   ],
   "source": [
    "train.low_interest_manager_id.sum()"
   ]
  },
  {
   "cell_type": "code",
   "execution_count": 28,
   "metadata": {
    "collapsed": false
   },
   "outputs": [
    {
     "name": "stderr",
     "output_type": "stream",
     "text": [
      "/Users/danielg/anaconda3/lib/python3.6/site-packages/statsmodels/nonparametric/kdetools.py:20: VisibleDeprecationWarning: using a non-integer number instead of an integer will result in an error in the future\n",
      "  y = X[:m/2+1] + np.r_[0,X[m/2+1:],0]*1j\n"
     ]
    },
    {
     "data": {
      "text/plain": [
       "<matplotlib.text.Text at 0x13b085c88>"
      ]
     },
     "execution_count": 28,
     "metadata": {},
     "output_type": "execute_result"
    },
    {
     "data": {
      "image/png": "[encoded data removed]",
      "text/plain": [
       "<matplotlib.figure.Figure at 0x13b0b8c18>"
      ]
     },
     "metadata": {},
     "output_type": "display_data"
    }
   ],
   "source": [
    "\n",
    "train.groupby('interest_level').apply(lambda x: sns.distplot(x.price, label=x.name))\n",
    "plt.xlim(50, 10000)\n",
    "plt.legend()\n",
    "plt.title('interest level distributions by price')"
   ]
  },
  {
   "cell_type": "code",
   "execution_count": 29,
   "metadata": {
    "collapsed": false
   },
   "outputs": [],
   "source": [
    "n_interest_levels = train.interest_level.value_counts()"
   ]
  },
  {
   "cell_type": "code",
   "execution_count": 30,
   "metadata": {
    "collapsed": false
   },
   "outputs": [
    {
     "data": {
      "text/plain": [
       "<matplotlib.axes._subplots.AxesSubplot at 0x13aff1d68>"
      ]
     },
     "execution_count": 30,
     "metadata": {},
     "output_type": "execute_result"
    },
    {
     "data": {
      "image/png": "[encoded data removed]",
      "text/plain": [
       "<matplotlib.figure.Figure at 0x13afc1908>"
      ]
     },
     "metadata": {},
     "output_type": "display_data"
    }
   ],
   "source": [
    "(train\n",
    ".groupby(['interest_level', 'bedrooms'])\n",
    ".size()\n",
    ".reset_index()\n",
    ".pipe(pd.pivot_table, columns='interest_level', index='bedrooms', values=0)\n",
    ".fillna(0).astype(int)\n",
    "[['low', 'medium', 'high']]\n",
    ".divide(n_interest_levels)\n",
    ").plot.line()"
   ]
  },
  {
   "cell_type": "code",
   "execution_count": 31,
   "metadata": {
    "collapsed": false
   },
   "outputs": [],
   "source": [
    "train['description_length'] = train.description.apply(lambda x: len(x))"
   ]
  },
  {
   "cell_type": "code",
   "execution_count": 32,
   "metadata": {
    "collapsed": false
   },
   "outputs": [
    {
     "name": "stderr",
     "output_type": "stream",
     "text": [
      "/Users/danielg/anaconda3/lib/python3.6/site-packages/statsmodels/nonparametric/kdetools.py:20: VisibleDeprecationWarning: using a non-integer number instead of an integer will result in an error in the future\n",
      "  y = X[:m/2+1] + np.r_[0,X[m/2+1:],0]*1j\n"
     ]
    },
    {
     "data": {
      "text/plain": [
       "interest_level\n",
       "high      Axes(0.125,0.125;0.775x0.755)\n",
       "low       Axes(0.125,0.125;0.775x0.755)\n",
       "medium    Axes(0.125,0.125;0.775x0.755)\n",
       "dtype: object"
      ]
     },
     "execution_count": 32,
     "metadata": {},
     "output_type": "execute_result"
    },
    {
     "data": {
      "image/png": "[encoded data removed]",
      "text/plain": [
       "<matplotlib.figure.Figure at 0x13afbadd8>"
      ]
     },
     "metadata": {},
     "output_type": "display_data"
    }
   ],
   "source": [
    "(train\n",
    ".groupby(['interest_level'])\n",
    ".apply(lambda x: sns.distplot(x.description_length, label=x.name))\n",
    ")"
   ]
  },
  {
   "cell_type": "code",
   "execution_count": 266,
   "metadata": {
    "collapsed": false
   },
   "outputs": [],
   "source": [
    "train['description_n_words'] = train.description.apply(lambda x: len([x for x in x.split(' ') if x != '']))"
   ]
  },
  {
   "cell_type": "markdown",
   "metadata": {},
   "source": [
    "## Location"
   ]
  },
  {
   "cell_type": "code",
   "execution_count": 33,
   "metadata": {
    "collapsed": false
   },
   "outputs": [],
   "source": [
    "high_latitudes = train.loc[((train.latitude != 0) & (train.longitude != 0) & (train.interest_level == 'high'))]\n",
    "high_level_latitude = high_latitudes.latitude.tolist()\n",
    "high_level_longitude = high_latitudes.longitude.tolist()\n"
   ]
  },
  {
   "cell_type": "code",
   "execution_count": 34,
   "metadata": {
    "collapsed": false
   },
   "outputs": [],
   "source": [
    "med_latitudes = train.loc[((train.latitude != 0) & (train.longitude != 0) & (train.interest_level == 'medium'))]\n",
    "med_level_latitude = med_latitudes.latitude.tolist()\n",
    "med_level_longitude = med_latitudes.longitude.tolist()\n"
   ]
  },
  {
   "cell_type": "code",
   "execution_count": 35,
   "metadata": {
    "collapsed": true
   },
   "outputs": [],
   "source": [
    "low_latitudes = train.loc[((train.latitude != 0) & (train.longitude != 0) & (train.interest_level == 'low'))]\n",
    "low_level_latitude = low_latitudes.latitude.tolist()\n",
    "low_level_longitude = low_latitudes.longitude.tolist()\n"
   ]
  },
  {
   "cell_type": "code",
   "execution_count": 36,
   "metadata": {
    "collapsed": false,
    "scrolled": false
   },
   "outputs": [
    {
     "name": "stderr",
     "output_type": "stream",
     "text": [
      "/Users/danielg/anaconda3/lib/python3.6/site-packages/mpl_toolkits/basemap/__init__.py:1767: MatplotlibDeprecationWarning: The get_axis_bgcolor function was deprecated in version 2.0. Use get_facecolor instead.\n",
      "  axisbgc = ax.get_axis_bgcolor()\n",
      "/Users/danielg/anaconda3/lib/python3.6/site-packages/mpl_toolkits/basemap/__init__.py:1623: MatplotlibDeprecationWarning: The get_axis_bgcolor function was deprecated in version 2.0. Use get_facecolor instead.\n",
      "  fill_color = ax.get_axis_bgcolor()\n",
      "/Users/danielg/anaconda3/lib/python3.6/site-packages/mpl_toolkits/basemap/__init__.py:3260: MatplotlibDeprecationWarning: The ishold function was deprecated in version 2.0.\n",
      "  b = ax.ishold()\n",
      "/Users/danielg/anaconda3/lib/python3.6/site-packages/mpl_toolkits/basemap/__init__.py:3269: MatplotlibDeprecationWarning: axes.hold is deprecated.\n",
      "    See the API Changes document (http://matplotlib.org/api/api_changes.html)\n",
      "    for more details.\n",
      "  ax.hold(b)\n"
     ]
    },
    {
     "data": {
      "image/png": "[encoded data removed]",
      "text/plain": [
       "<matplotlib.figure.Figure at 0x13b0db2e8>"
      ]
     },
     "metadata": {},
     "output_type": "display_data"
    }
   ],
   "source": [
    "lower = 0.5\n",
    "upper = 99.5\n",
    "\n",
    "plt.figure(figsize=(12,6))\n",
    "\n",
    "my_map = Basemap(projection='merc', \n",
    "                 lat_0=np.mean(train.latitude), \n",
    "                 lon_0=np.mean(train.longitude),\n",
    "                 resolution = 'h', \n",
    "                 area_thresh = 0.1,\n",
    "                 llcrnrlon=np.percentile(train.longitude, lower), \n",
    "                 llcrnrlat=np.percentile(train.latitude, lower),\n",
    "                 urcrnrlon=np.percentile(train.longitude, upper), \n",
    "                 urcrnrlat=np.percentile(train.latitude, upper))\n",
    " \n",
    "my_map.drawcoastlines()\n",
    "my_map.drawcountries()\n",
    "my_map.fillcontinents(color='coral')\n",
    "my_map.drawmapboundary()\n",
    " \n",
    "x,y = my_map(high_level_longitude, high_level_latitude)\n",
    "my_map.plot(x, y, 'bo', markersize=5, alpha=0.4)\n",
    "\n",
    "x,y = my_map(med_level_longitude, med_level_latitude)\n",
    "my_map.plot(x, y, 'go', markersize=5, alpha=0.2)\n",
    "\n",
    "x,y = my_map(low_level_longitude, low_level_latitude)\n",
    "my_map.plot(x, y, 'yo', markersize=3, alpha=0.1)\n",
    "\n",
    "plt.show()"
   ]
  },
  {
   "cell_type": "markdown",
   "metadata": {},
   "source": [
    "## Created"
   ]
  },
  {
   "cell_type": "code",
   "execution_count": 37,
   "metadata": {
    "collapsed": false
   },
   "outputs": [
    {
     "data": {
      "image/png": "[encoded data removed]",
      "text/plain": [
       "<matplotlib.figure.Figure at 0x13b0963c8>"
      ]
     },
     "metadata": {},
     "output_type": "display_data"
    }
   ],
   "source": [
    "train.created.dt.date.value_counts().sort_index().plot.line()\n",
    "plt.title('When these listings were created')\n",
    "plt.show()"
   ]
  },
  {
   "cell_type": "code",
   "execution_count": 38,
   "metadata": {
    "collapsed": false
   },
   "outputs": [
    {
     "name": "stderr",
     "output_type": "stream",
     "text": [
      "/Users/danielg/anaconda3/lib/python3.6/site-packages/statsmodels/nonparametric/kdetools.py:20: VisibleDeprecationWarning: using a non-integer number instead of an integer will result in an error in the future\n",
      "  y = X[:m/2+1] + np.r_[0,X[m/2+1:],0]*1j\n"
     ]
    },
    {
     "data": {
      "image/png": "[encoded data removed]",
      "text/plain": [
       "<matplotlib.figure.Figure at 0x13aea67b8>"
      ]
     },
     "metadata": {},
     "output_type": "display_data"
    }
   ],
   "source": [
    "plt.figure(figsize=(15,5))\n",
    "(train\n",
    ".groupby('interest_level')\n",
    ".apply(lambda df: sns.kdeplot((df.created.dt.hour \n",
    "                               + (df.created.dt.minute / 60)\n",
    "                               + (df.created.dt.second / 360))\n",
    "                              , shade=True, label=df.name))\n",
    ")\n",
    "plt.title('KDE of time of day by interest level')\n",
    "plt.legend()\n",
    "plt.show()"
   ]
  },
  {
   "cell_type": "code",
   "execution_count": 189,
   "metadata": {
    "collapsed": false
   },
   "outputs": [],
   "source": [
    "train['day_of_week'] = train['created'].dt.dayofweek\n",
    "train['hour_of_day'] = train['created'].dt.hour"
   ]
  },
  {
   "cell_type": "code",
   "execution_count": 357,
   "metadata": {
    "collapsed": true
   },
   "outputs": [],
   "source": [
    "train['month'] = train['created'].dt.month"
   ]
  },
  {
   "cell_type": "code",
   "execution_count": 355,
   "metadata": {
    "collapsed": false
   },
   "outputs": [
    {
     "data": {
      "text/plain": [
       "2016    49352\n",
       "Name: created, dtype: int64"
      ]
     },
     "execution_count": 355,
     "metadata": {},
     "output_type": "execute_result"
    }
   ],
   "source": [
    "train['created'].dt.year.value_counts()"
   ]
  },
  {
   "cell_type": "code",
   "execution_count": 356,
   "metadata": {
    "collapsed": false
   },
   "outputs": [
    {
     "data": {
      "text/plain": [
       "6    17144\n",
       "4    16411\n",
       "5    15797\n",
       "Name: created, dtype: int64"
      ]
     },
     "execution_count": 356,
     "metadata": {},
     "output_type": "execute_result"
    }
   ],
   "source": [
    "train['created'].dt.month.value_counts()"
   ]
  },
  {
   "cell_type": "markdown",
   "metadata": {},
   "source": [
    "## Building Id"
   ]
  },
  {
   "cell_type": "code",
   "execution_count": 39,
   "metadata": {
    "collapsed": false
   },
   "outputs": [
    {
     "data": {
      "text/plain": [
       "(49352, 16)"
      ]
     },
     "execution_count": 39,
     "metadata": {},
     "output_type": "execute_result"
    }
   ],
   "source": [
    "train.shape"
   ]
  },
  {
   "cell_type": "code",
   "execution_count": 40,
   "metadata": {
    "collapsed": false
   },
   "outputs": [
    {
     "data": {
      "text/plain": [
       "7585"
      ]
     },
     "execution_count": 40,
     "metadata": {},
     "output_type": "execute_result"
    }
   ],
   "source": [
    "train.building_id.nunique()"
   ]
  },
  {
   "cell_type": "code",
   "execution_count": 41,
   "metadata": {
    "collapsed": false
   },
   "outputs": [
    {
     "data": {
      "text/plain": [
       "low       0.915762\n",
       "medium    0.060705\n",
       "high      0.023534\n",
       "Name: interest_level, dtype: float64"
      ]
     },
     "execution_count": 41,
     "metadata": {},
     "output_type": "execute_result"
    }
   ],
   "source": [
    "## this seems to be higher than the typical distribution?\n",
    "train[train.building_id == '0'].interest_level.value_counts(normalize=True)"
   ]
  },
  {
   "cell_type": "code",
   "execution_count": 42,
   "metadata": {
    "collapsed": false
   },
   "outputs": [],
   "source": [
    "by_building_id = (train\n",
    ".loc[train.building_id != '0']\n",
    ".groupby(['building_id', 'interest_level'])\n",
    ".size()\n",
    ".reset_index()\n",
    ".pipe(pd.pivot_table, columns='interest_level', index='building_id', values=0)\n",
    ".fillna(0).astype(int)\n",
    "[['low', 'medium', 'high']]\n",
    ")"
   ]
  },
  {
   "cell_type": "code",
   "execution_count": 43,
   "metadata": {
    "collapsed": false
   },
   "outputs": [],
   "source": [
    "by_building_proportions = by_building_id.divide(by_building_id.sum(1), axis=0)"
   ]
  },
  {
   "cell_type": "code",
   "execution_count": 44,
   "metadata": {
    "collapsed": false
   },
   "outputs": [
    {
     "data": {
      "text/html": [
       "<div>\n",
       "<table border=\"1\" class=\"dataframe\">\n",
       "  <thead>\n",
       "    <tr style=\"text-align: right;\">\n",
       "      <th>interest_level</th>\n",
       "      <th>low</th>\n",
       "      <th>medium</th>\n",
       "      <th>high</th>\n",
       "    </tr>\n",
       "    <tr>\n",
       "      <th>building_id</th>\n",
       "      <th></th>\n",
       "      <th></th>\n",
       "      <th></th>\n",
       "    </tr>\n",
       "  </thead>\n",
       "  <tbody>\n",
       "    <tr>\n",
       "      <th>009f494b0636f32b96b41926ec7c4bf2</th>\n",
       "      <td>1.0</td>\n",
       "      <td>0.0</td>\n",
       "      <td>0.0</td>\n",
       "    </tr>\n",
       "  </tbody>\n",
       "</table>\n",
       "</div>"
      ],
      "text/plain": [
       "interest_level                    low  medium  high\n",
       "building_id                                        \n",
       "009f494b0636f32b96b41926ec7c4bf2  1.0     0.0   0.0"
      ]
     },
     "execution_count": 44,
     "metadata": {},
     "output_type": "execute_result"
    }
   ],
   "source": [
    "low_interest_buildings = (by_building_proportions.\n",
    "                            loc[((by_building_id.sum(1) > 10) & \n",
    "                                 (by_building_proportions.low > 0.95))])\n",
    "low_interest_buildings.head(1)"
   ]
  },
  {
   "cell_type": "code",
   "execution_count": 45,
   "metadata": {
    "collapsed": false
   },
   "outputs": [
    {
     "data": {
      "text/plain": [
       "low       1372\n",
       "medium      23\n",
       "high         1\n",
       "Name: interest_level, dtype: int64"
      ]
     },
     "execution_count": 45,
     "metadata": {},
     "output_type": "execute_result"
    }
   ],
   "source": [
    "train.loc[train.building_id.isin(low_interest_buildings.index.values)].interest_level.value_counts()"
   ]
  },
  {
   "cell_type": "code",
   "execution_count": 46,
   "metadata": {
    "collapsed": false
   },
   "outputs": [
    {
     "data": {
      "text/html": [
       "<div>\n",
       "<table border=\"1\" class=\"dataframe\">\n",
       "  <thead>\n",
       "    <tr style=\"text-align: right;\">\n",
       "      <th></th>\n",
       "      <th>bathrooms</th>\n",
       "      <th>bedrooms</th>\n",
       "      <th>building_id</th>\n",
       "      <th>created</th>\n",
       "      <th>description</th>\n",
       "      <th>display_address</th>\n",
       "      <th>features</th>\n",
       "      <th>interest_level</th>\n",
       "      <th>latitude</th>\n",
       "      <th>longitude</th>\n",
       "      <th>manager_id</th>\n",
       "      <th>photos</th>\n",
       "      <th>price</th>\n",
       "      <th>street_address</th>\n",
       "      <th>low_interest_manager_id</th>\n",
       "      <th>description_length</th>\n",
       "      <th>low_interest_building_id</th>\n",
       "    </tr>\n",
       "    <tr>\n",
       "      <th>listing_id</th>\n",
       "      <th></th>\n",
       "      <th></th>\n",
       "      <th></th>\n",
       "      <th></th>\n",
       "      <th></th>\n",
       "      <th></th>\n",
       "      <th></th>\n",
       "      <th></th>\n",
       "      <th></th>\n",
       "      <th></th>\n",
       "      <th></th>\n",
       "      <th></th>\n",
       "      <th></th>\n",
       "      <th></th>\n",
       "      <th></th>\n",
       "      <th></th>\n",
       "      <th></th>\n",
       "    </tr>\n",
       "  </thead>\n",
       "  <tbody>\n",
       "    <tr>\n",
       "      <th>7211212</th>\n",
       "      <td>1.5</td>\n",
       "      <td>3</td>\n",
       "      <td>53a5b119ba8f7b61d4e010512e0dfc85</td>\n",
       "      <td>2016-06-24 07:54:24</td>\n",
       "      <td>A Brand New 3 Bedroom 1.5 bath ApartmentEnjoy ...</td>\n",
       "      <td>Metropolitan Avenue</td>\n",
       "      <td>[]</td>\n",
       "      <td>medium</td>\n",
       "      <td>40.7145</td>\n",
       "      <td>-73.9425</td>\n",
       "      <td>5ba989232d0489da1b5f2c45f6688adc</td>\n",
       "      <td>[https://photos.renthop.com/2/7211212_1ed4542e...</td>\n",
       "      <td>3000</td>\n",
       "      <td>792 Metropolitan Avenue</td>\n",
       "      <td>0</td>\n",
       "      <td>588</td>\n",
       "      <td>0</td>\n",
       "    </tr>\n",
       "  </tbody>\n",
       "</table>\n",
       "</div>"
      ],
      "text/plain": [
       "            bathrooms  bedrooms                       building_id  \\\n",
       "listing_id                                                          \n",
       "7211212           1.5         3  53a5b119ba8f7b61d4e010512e0dfc85   \n",
       "\n",
       "                       created  \\\n",
       "listing_id                       \n",
       "7211212    2016-06-24 07:54:24   \n",
       "\n",
       "                                                  description  \\\n",
       "listing_id                                                      \n",
       "7211212     A Brand New 3 Bedroom 1.5 bath ApartmentEnjoy ...   \n",
       "\n",
       "                display_address features interest_level  latitude  longitude  \\\n",
       "listing_id                                                                     \n",
       "7211212     Metropolitan Avenue       []         medium   40.7145   -73.9425   \n",
       "\n",
       "                                  manager_id  \\\n",
       "listing_id                                     \n",
       "7211212     5ba989232d0489da1b5f2c45f6688adc   \n",
       "\n",
       "                                                       photos  price  \\\n",
       "listing_id                                                             \n",
       "7211212     [https://photos.renthop.com/2/7211212_1ed4542e...   3000   \n",
       "\n",
       "                     street_address  low_interest_manager_id  \\\n",
       "listing_id                                                     \n",
       "7211212     792 Metropolitan Avenue                        0   \n",
       "\n",
       "            description_length  low_interest_building_id  \n",
       "listing_id                                                \n",
       "7211212                    588                         0  "
      ]
     },
     "execution_count": 46,
     "metadata": {},
     "output_type": "execute_result"
    }
   ],
   "source": [
    "train.loc[:,'low_interest_building_id'] = 0\n",
    "train.loc[train.building_id.isin(low_interest_buildings.index.values), 'low_interest_building_id'] = 1\n",
    "train.head(1)"
   ]
  },
  {
   "cell_type": "code",
   "execution_count": 47,
   "metadata": {
    "collapsed": false
   },
   "outputs": [
    {
     "data": {
      "text/html": [
       "<div>\n",
       "<table border=\"1\" class=\"dataframe\">\n",
       "  <thead>\n",
       "    <tr style=\"text-align: right;\">\n",
       "      <th></th>\n",
       "      <th>bathrooms</th>\n",
       "      <th>bedrooms</th>\n",
       "      <th>building_id</th>\n",
       "      <th>created</th>\n",
       "      <th>description</th>\n",
       "      <th>display_address</th>\n",
       "      <th>features</th>\n",
       "      <th>interest_level</th>\n",
       "      <th>latitude</th>\n",
       "      <th>longitude</th>\n",
       "      <th>manager_id</th>\n",
       "      <th>photos</th>\n",
       "      <th>price</th>\n",
       "      <th>street_address</th>\n",
       "      <th>low_interest_manager_id</th>\n",
       "      <th>description_length</th>\n",
       "      <th>low_interest_building_id</th>\n",
       "      <th>no_building_id</th>\n",
       "    </tr>\n",
       "    <tr>\n",
       "      <th>listing_id</th>\n",
       "      <th></th>\n",
       "      <th></th>\n",
       "      <th></th>\n",
       "      <th></th>\n",
       "      <th></th>\n",
       "      <th></th>\n",
       "      <th></th>\n",
       "      <th></th>\n",
       "      <th></th>\n",
       "      <th></th>\n",
       "      <th></th>\n",
       "      <th></th>\n",
       "      <th></th>\n",
       "      <th></th>\n",
       "      <th></th>\n",
       "      <th></th>\n",
       "      <th></th>\n",
       "      <th></th>\n",
       "    </tr>\n",
       "  </thead>\n",
       "  <tbody>\n",
       "    <tr>\n",
       "      <th>7211212</th>\n",
       "      <td>1.5</td>\n",
       "      <td>3</td>\n",
       "      <td>53a5b119ba8f7b61d4e010512e0dfc85</td>\n",
       "      <td>2016-06-24 07:54:24</td>\n",
       "      <td>A Brand New 3 Bedroom 1.5 bath ApartmentEnjoy ...</td>\n",
       "      <td>Metropolitan Avenue</td>\n",
       "      <td>[]</td>\n",
       "      <td>medium</td>\n",
       "      <td>40.7145</td>\n",
       "      <td>-73.9425</td>\n",
       "      <td>5ba989232d0489da1b5f2c45f6688adc</td>\n",
       "      <td>[https://photos.renthop.com/2/7211212_1ed4542e...</td>\n",
       "      <td>3000</td>\n",
       "      <td>792 Metropolitan Avenue</td>\n",
       "      <td>0</td>\n",
       "      <td>588</td>\n",
       "      <td>0</td>\n",
       "      <td>0</td>\n",
       "    </tr>\n",
       "  </tbody>\n",
       "</table>\n",
       "</div>"
      ],
      "text/plain": [
       "            bathrooms  bedrooms                       building_id  \\\n",
       "listing_id                                                          \n",
       "7211212           1.5         3  53a5b119ba8f7b61d4e010512e0dfc85   \n",
       "\n",
       "                       created  \\\n",
       "listing_id                       \n",
       "7211212    2016-06-24 07:54:24   \n",
       "\n",
       "                                                  description  \\\n",
       "listing_id                                                      \n",
       "7211212     A Brand New 3 Bedroom 1.5 bath ApartmentEnjoy ...   \n",
       "\n",
       "                display_address features interest_level  latitude  longitude  \\\n",
       "listing_id                                                                     \n",
       "7211212     Metropolitan Avenue       []         medium   40.7145   -73.9425   \n",
       "\n",
       "                                  manager_id  \\\n",
       "listing_id                                     \n",
       "7211212     5ba989232d0489da1b5f2c45f6688adc   \n",
       "\n",
       "                                                       photos  price  \\\n",
       "listing_id                                                             \n",
       "7211212     [https://photos.renthop.com/2/7211212_1ed4542e...   3000   \n",
       "\n",
       "                     street_address  low_interest_manager_id  \\\n",
       "listing_id                                                     \n",
       "7211212     792 Metropolitan Avenue                        0   \n",
       "\n",
       "            description_length  low_interest_building_id  no_building_id  \n",
       "listing_id                                                                \n",
       "7211212                    588                         0               0  "
      ]
     },
     "execution_count": 47,
     "metadata": {},
     "output_type": "execute_result"
    }
   ],
   "source": [
    "train.loc[:,'no_building_id'] = 0\n",
    "train.loc[train.building_id == '0', 'no_building_id'] = 1\n",
    "train.head(1)"
   ]
  },
  {
   "cell_type": "code",
   "execution_count": 48,
   "metadata": {
    "collapsed": false
   },
   "outputs": [
    {
     "data": {
      "text/plain": [
       "1396"
      ]
     },
     "execution_count": 48,
     "metadata": {},
     "output_type": "execute_result"
    }
   ],
   "source": [
    "train.low_interest_building_id.sum()"
   ]
  },
  {
   "cell_type": "code",
   "execution_count": 49,
   "metadata": {
    "collapsed": false
   },
   "outputs": [
    {
     "data": {
      "text/plain": [
       "low_interest_manager_id  low_interest_building_id  no_building_id\n",
       "0                        0                         0                 36646\n",
       "                                                   1                  5002\n",
       "                         1                         0                  1122\n",
       "1                        0                         0                  3024\n",
       "                                                   1                  3284\n",
       "                         1                         0                   274\n",
       "dtype: int64"
      ]
     },
     "execution_count": 49,
     "metadata": {},
     "output_type": "execute_result"
    }
   ],
   "source": [
    "train.groupby(['low_interest_manager_id', 'low_interest_building_id', 'no_building_id']).size()"
   ]
  },
  {
   "cell_type": "markdown",
   "metadata": {},
   "source": [
    "## features"
   ]
  },
  {
   "cell_type": "code",
   "execution_count": 74,
   "metadata": {
    "collapsed": false
   },
   "outputs": [],
   "source": [
    "train['n_features'] = train.features.apply(lambda x: len(x))"
   ]
  },
  {
   "cell_type": "code",
   "execution_count": 86,
   "metadata": {
    "collapsed": false
   },
   "outputs": [
    {
     "data": {
      "text/plain": [
       "<matplotlib.axes._subplots.AxesSubplot at 0x13ae1b208>"
      ]
     },
     "execution_count": 86,
     "metadata": {},
     "output_type": "execute_result"
    },
    {
     "data": {
      "image/png": "[encoded data removed]",
      "text/plain": [
       "<matplotlib.figure.Figure at 0x13ae4b0b8>"
      ]
     },
     "metadata": {},
     "output_type": "display_data"
    }
   ],
   "source": [
    "(train\n",
    ".groupby(['n_features', 'interest_level'])\n",
    ".size().reset_index()\n",
    ".pipe(pd.pivot_table, columns='interest_level', index='n_features', values=0)\n",
    ".fillna(0).astype(int)\n",
    " [['low', 'medium', 'high']]\n",
    ".plot.line()\n",
    ")"
   ]
  },
  {
   "cell_type": "markdown",
   "metadata": {},
   "source": [
    "## are there high interest features\n",
    "+ how many types of features are there?"
   ]
  },
  {
   "cell_type": "code",
   "execution_count": 522,
   "metadata": {
    "collapsed": false
   },
   "outputs": [],
   "source": [
    "features = []\n",
    "for i in train['features']:\n",
    "    features.extend(i)\n",
    "features = set(features)"
   ]
  },
  {
   "cell_type": "code",
   "execution_count": 523,
   "metadata": {
    "collapsed": false
   },
   "outputs": [
    {
     "data": {
      "text/plain": [
       "1556"
      ]
     },
     "execution_count": 523,
     "metadata": {},
     "output_type": "execute_result"
    }
   ],
   "source": [
    "# total number of features\n",
    "len(features)"
   ]
  },
  {
   "cell_type": "code",
   "execution_count": 537,
   "metadata": {
    "collapsed": false
   },
   "outputs": [
    {
     "data": {
      "text/plain": [
       "Index(['bathrooms', 'bedrooms', 'building_id', 'created', 'description',\n",
       "       'display_address', 'features', 'interest_level', 'latitude',\n",
       "       'longitude', 'manager_id', 'photos', 'price', 'street_address',\n",
       "       'low_interest_manager_id', 'description_length',\n",
       "       'low_interest_building_id', 'no_building_id', 'n_features', 'n_photos',\n",
       "       'has_zero_photos', 'low_interest_display_address', 'day_of_week',\n",
       "       'hour_of_day', 'log_price', 'description_n_words',\n",
       "       'log_description_length', 'month', 'latitude_norm', 'longitude_norm'],\n",
       "      dtype='object')"
      ]
     },
     "execution_count": 537,
     "metadata": {},
     "output_type": "execute_result"
    }
   ],
   "source": [
    "train.columns"
   ]
  },
  {
   "cell_type": "code",
   "execution_count": 554,
   "metadata": {
    "collapsed": false,
    "scrolled": true
   },
   "outputs": [],
   "source": [
    "feature_counts = list()\n",
    "for name, i in train.loc[train.n_features > 0].iterrows():\n",
    "    id_d = {'listing_id': name}\n",
    "    vals_d = pd.Series(i.features).value_counts().to_dict()\n",
    "    row_dict = {**id_d, **vals_d}\n",
    "    feature_counts.append(row_dict)"
   ]
  },
  {
   "cell_type": "code",
   "execution_count": 555,
   "metadata": {
    "collapsed": false
   },
   "outputs": [],
   "source": [
    "feature_counts = pd.DataFrame(feature_counts)"
   ]
  },
  {
   "cell_type": "code",
   "execution_count": null,
   "metadata": {
    "collapsed": true
   },
   "outputs": [],
   "source": []
  },
  {
   "cell_type": "markdown",
   "metadata": {},
   "source": [
    "should look for the most desirable features"
   ]
  },
  {
   "cell_type": "code",
   "execution_count": null,
   "metadata": {
    "collapsed": true
   },
   "outputs": [],
   "source": [
    "train.features"
   ]
  },
  {
   "cell_type": "markdown",
   "metadata": {},
   "source": [
    "## photos"
   ]
  },
  {
   "cell_type": "code",
   "execution_count": 100,
   "metadata": {
    "collapsed": false
   },
   "outputs": [],
   "source": [
    "train['n_photos'] = train.photos.apply(lambda x: len(x))"
   ]
  },
  {
   "cell_type": "code",
   "execution_count": 104,
   "metadata": {
    "collapsed": false
   },
   "outputs": [
    {
     "data": {
      "text/plain": [
       "<matplotlib.axes._subplots.AxesSubplot at 0x13ad80710>"
      ]
     },
     "execution_count": 104,
     "metadata": {},
     "output_type": "execute_result"
    },
    {
     "data": {
      "image/png": "[encoded data removed]",
      "text/plain": [
       "<matplotlib.figure.Figure at 0x13ad42550>"
      ]
     },
     "metadata": {},
     "output_type": "display_data"
    }
   ],
   "source": [
    "(train\n",
    ".loc[train.n_photos < 5]\n",
    ".groupby(['n_photos', 'interest_level'])\n",
    ".size().reset_index()\n",
    ".pipe(pd.pivot_table, columns='interest_level', index='n_photos', values=0)\n",
    ".fillna(0).astype(int)\n",
    " [['low', 'medium', 'high']]\n",
    ".plot.line()\n",
    ")"
   ]
  },
  {
   "cell_type": "markdown",
   "metadata": {},
   "source": [
    "looks like a the zero photos "
   ]
  },
  {
   "cell_type": "code",
   "execution_count": 112,
   "metadata": {
    "collapsed": false
   },
   "outputs": [
    {
     "data": {
      "text/plain": [
       "interest_level  has_zero_photos\n",
       "high            0                   3789\n",
       "                1                     50\n",
       "low             0                  30842\n",
       "                1                   3442\n",
       "medium          0                  11106\n",
       "                1                    123\n",
       "dtype: int64"
      ]
     },
     "execution_count": 112,
     "metadata": {},
     "output_type": "execute_result"
    }
   ],
   "source": [
    "train.loc[:,'has_zero_photos'] = 0\n",
    "train.loc[train.n_photos == 0, 'has_zero_photos'] = 1\n",
    "train.groupby(['interest_level', 'has_zero_photos']).size()"
   ]
  },
  {
   "cell_type": "markdown",
   "metadata": {},
   "source": [
    "## display address"
   ]
  },
  {
   "cell_type": "code",
   "execution_count": 148,
   "metadata": {
    "collapsed": false,
    "scrolled": true
   },
   "outputs": [],
   "source": [
    "display_x_tab = (train\n",
    " .groupby(['display_address', 'interest_level'])\n",
    " .size().reset_index()\n",
    " .pipe(pd.pivot_table, columns='interest_level', index='display_address', values=0)\n",
    " .fillna(0).astype(int)\n",
    " [['low', 'medium', 'high']]\n",
    ")"
   ]
  },
  {
   "cell_type": "code",
   "execution_count": 151,
   "metadata": {
    "collapsed": false
   },
   "outputs": [],
   "source": [
    "display_x_tab_proportions = display_x_tab.divide(display_x_tab.sum(1), 0)"
   ]
  },
  {
   "cell_type": "code",
   "execution_count": 162,
   "metadata": {
    "collapsed": false
   },
   "outputs": [
    {
     "data": {
      "text/plain": [
       "array(['5th Ave.', '888 Eighth Avenue', 'Broad Street', 'Center Boulevard',\n",
       "       'Central Park West', 'Charles Street', 'Cliff Street',\n",
       "       'Cooper Square', 'E 14 Street', 'E 28th St', 'E 49th St.',\n",
       "       'E 63rd St.', 'E 72 Street', 'E 72nd St.', 'E 77 Street',\n",
       "       'E 84th St.', 'E 86 Street', 'E 87th St.', 'E 89th St.',\n",
       "       'East 100th Street', 'East 117th Street', 'East 1st Street',\n",
       "       'East 20th Street', 'East 49th Street', 'East 60th Street',\n",
       "       'East 65th Street', 'East 66th Street', 'East 72nd Street',\n",
       "       'East 77th Street', 'East 92nd Street', 'East 96th Street',\n",
       "       'Greenwich Avenue', 'Horatio Street', 'Jones Street',\n",
       "       'Lawrence Street', 'Manhattan Avenue', 'North 10th Street',\n",
       "       'Peter Cooper Road', 'Riverside Blvd', 'Riverside Boulevard',\n",
       "       'Saint Nicholas Avenue', 'Spruce Street', 'St Marks Place',\n",
       "       'Stuyvesant Oval', 'Union Square South', 'W 55 Street',\n",
       "       'W 57 Street', 'W 58 Street', 'W 62 St.', 'W 63rd St.',\n",
       "       'W 75 Street', 'W 86th St.', 'W 87 Street', 'Wall St',\n",
       "       'Waterside Plaza', 'West 106th Street', 'West 143',\n",
       "       'West 22nd Street', 'West 60th Street', 'West 80th Street',\n",
       "       'West 84th Street', 'West 86th Street', 'West 89th Street',\n",
       "       'West End Avenue', 'West Houston Street'], dtype=object)"
      ]
     },
     "execution_count": 162,
     "metadata": {},
     "output_type": "execute_result"
    }
   ],
   "source": [
    "low_interest_addresses = display_x_tab_proportions.loc[((display_x_tab.sum(1) > 20) & (display_x_tab_proportions.low > 0.9))]\n",
    "low_interest_addresses.index.values"
   ]
  },
  {
   "cell_type": "code",
   "execution_count": 166,
   "metadata": {
    "collapsed": false
   },
   "outputs": [
    {
     "data": {
      "text/plain": [
       "interest_level\n",
       "high        21\n",
       "low       2777\n",
       "medium     179\n",
       "dtype: int64"
      ]
     },
     "execution_count": 166,
     "metadata": {},
     "output_type": "execute_result"
    }
   ],
   "source": [
    "train.loc[train.display_address.isin(low_interest_addresses.index.values)].groupby(['interest_level']).size()"
   ]
  },
  {
   "cell_type": "code",
   "execution_count": 168,
   "metadata": {
    "collapsed": false
   },
   "outputs": [],
   "source": [
    "train.loc[:, 'low_interest_display_address'] = 0\n",
    "train.loc[train.display_address.isin(low_interest_addresses.index.values), 'low_interest_display_address'] = 1"
   ]
  },
  {
   "cell_type": "code",
   "execution_count": 182,
   "metadata": {
    "collapsed": false
   },
   "outputs": [
    {
     "data": {
      "text/html": [
       "<div>\n",
       "<table border=\"1\" class=\"dataframe\">\n",
       "  <thead>\n",
       "    <tr style=\"text-align: right;\">\n",
       "      <th>interest_level</th>\n",
       "      <th>low</th>\n",
       "      <th>medium</th>\n",
       "      <th>high</th>\n",
       "    </tr>\n",
       "    <tr>\n",
       "      <th>display_address</th>\n",
       "      <th></th>\n",
       "      <th></th>\n",
       "      <th></th>\n",
       "    </tr>\n",
       "  </thead>\n",
       "  <tbody>\n",
       "    <tr>\n",
       "      <th>Carlton St</th>\n",
       "      <td>0.0</td>\n",
       "      <td>0.0</td>\n",
       "      <td>1.0</td>\n",
       "    </tr>\n",
       "  </tbody>\n",
       "</table>\n",
       "</div>"
      ],
      "text/plain": [
       "interest_level   low  medium  high\n",
       "display_address                   \n",
       "Carlton St       0.0     0.0   1.0"
      ]
     },
     "execution_count": 182,
     "metadata": {},
     "output_type": "execute_result"
    }
   ],
   "source": [
    "## don't seem to be many that are high interest?\n",
    "\n",
    "display_x_tab_proportions.loc[((display_x_tab.sum(1) > 5) & (display_x_tab_proportions.high > 0.9))]"
   ]
  },
  {
   "cell_type": "code",
   "execution_count": 184,
   "metadata": {
    "collapsed": false
   },
   "outputs": [
    {
     "data": {
      "text/plain": [
       "high    6\n",
       "Name: interest_level, dtype: int64"
      ]
     },
     "execution_count": 184,
     "metadata": {},
     "output_type": "execute_result"
    }
   ],
   "source": [
    "train.loc[train.display_address == 'Carlton St'].interest_level.value_counts()"
   ]
  },
  {
   "cell_type": "markdown",
   "metadata": {},
   "source": [
    "## transformations?"
   ]
  },
  {
   "cell_type": "code",
   "execution_count": 324,
   "metadata": {
    "collapsed": false
   },
   "outputs": [],
   "source": [
    "from scipy.special import logit"
   ]
  },
  {
   "cell_type": "code",
   "execution_count": 226,
   "metadata": {
    "collapsed": false
   },
   "outputs": [],
   "source": [
    "train['log_price'] = np.log(train.price)"
   ]
  },
  {
   "cell_type": "code",
   "execution_count": 337,
   "metadata": {
    "collapsed": false
   },
   "outputs": [],
   "source": [
    "train['log_description_length'] = np.log(train.description_length + 0.01)\n",
    "train['log_description_length'] = train['log_description_length'].fillna(0)"
   ]
  },
  {
   "cell_type": "markdown",
   "metadata": {},
   "source": [
    "# some basic predictions"
   ]
  },
  {
   "cell_type": "code",
   "execution_count": 381,
   "metadata": {
    "collapsed": true
   },
   "outputs": [],
   "source": [
    "from sklearn import model_selection, linear_model, metrics, preprocessing"
   ]
  },
  {
   "cell_type": "markdown",
   "metadata": {},
   "source": [
    "setup test and train"
   ]
  },
  {
   "cell_type": "code",
   "execution_count": 468,
   "metadata": {
    "collapsed": false
   },
   "outputs": [],
   "source": [
    "features = ['bathrooms', \n",
    "            'bedrooms', \n",
    "            'log_description_length', \n",
    "            'latitude', \n",
    "            'longitude', \n",
    "            'low_interest_manager_id',\n",
    "           'low_interest_building_id', \n",
    "            'no_building_id',\n",
    "           'n_features', \n",
    "            'n_photos', \n",
    "            'has_zero_photos',\n",
    "           'low_interest_display_address',\n",
    "           'hour_of_day', \n",
    "            'log_price']\n",
    "X = train[features]\n",
    "y = train['interest_level']"
   ]
  },
  {
   "cell_type": "code",
   "execution_count": 484,
   "metadata": {
    "collapsed": false
   },
   "outputs": [
    {
     "data": {
      "text/html": [
       "<div>\n",
       "<table border=\"1\" class=\"dataframe\">\n",
       "  <thead>\n",
       "    <tr style=\"text-align: right;\">\n",
       "      <th></th>\n",
       "      <th>bathrooms</th>\n",
       "      <th>bedrooms</th>\n",
       "      <th>log_description_length</th>\n",
       "      <th>latitude</th>\n",
       "      <th>longitude</th>\n",
       "      <th>low_interest_manager_id</th>\n",
       "      <th>low_interest_building_id</th>\n",
       "      <th>no_building_id</th>\n",
       "      <th>n_features</th>\n",
       "      <th>n_photos</th>\n",
       "      <th>has_zero_photos</th>\n",
       "      <th>low_interest_display_address</th>\n",
       "      <th>hour_of_day</th>\n",
       "      <th>log_price</th>\n",
       "    </tr>\n",
       "  </thead>\n",
       "  <tbody>\n",
       "    <tr>\n",
       "      <th>count</th>\n",
       "      <td>49352.00000</td>\n",
       "      <td>49352.000000</td>\n",
       "      <td>49352.000000</td>\n",
       "      <td>49352.000000</td>\n",
       "      <td>49352.000000</td>\n",
       "      <td>49352.000000</td>\n",
       "      <td>49352.000000</td>\n",
       "      <td>49352.000000</td>\n",
       "      <td>49352.000000</td>\n",
       "      <td>49352.000000</td>\n",
       "      <td>49352.000000</td>\n",
       "      <td>49352.000000</td>\n",
       "      <td>49352.000000</td>\n",
       "      <td>49352.000000</td>\n",
       "    </tr>\n",
       "    <tr>\n",
       "      <th>mean</th>\n",
       "      <td>1.21218</td>\n",
       "      <td>1.541640</td>\n",
       "      <td>5.786637</td>\n",
       "      <td>40.741545</td>\n",
       "      <td>-73.955716</td>\n",
       "      <td>0.133368</td>\n",
       "      <td>0.028287</td>\n",
       "      <td>0.167896</td>\n",
       "      <td>5.428473</td>\n",
       "      <td>5.606946</td>\n",
       "      <td>0.073249</td>\n",
       "      <td>0.060322</td>\n",
       "      <td>4.764690</td>\n",
       "      <td>8.099032</td>\n",
       "    </tr>\n",
       "    <tr>\n",
       "      <th>std</th>\n",
       "      <td>0.50142</td>\n",
       "      <td>1.115018</td>\n",
       "      <td>2.114003</td>\n",
       "      <td>0.638535</td>\n",
       "      <td>1.177912</td>\n",
       "      <td>0.339976</td>\n",
       "      <td>0.165792</td>\n",
       "      <td>0.373778</td>\n",
       "      <td>3.923411</td>\n",
       "      <td>3.632283</td>\n",
       "      <td>0.260548</td>\n",
       "      <td>0.238084</td>\n",
       "      <td>4.190298</td>\n",
       "      <td>0.432838</td>\n",
       "    </tr>\n",
       "    <tr>\n",
       "      <th>min</th>\n",
       "      <td>0.00000</td>\n",
       "      <td>0.000000</td>\n",
       "      <td>-4.605170</td>\n",
       "      <td>0.000000</td>\n",
       "      <td>-118.271000</td>\n",
       "      <td>0.000000</td>\n",
       "      <td>0.000000</td>\n",
       "      <td>0.000000</td>\n",
       "      <td>0.000000</td>\n",
       "      <td>0.000000</td>\n",
       "      <td>0.000000</td>\n",
       "      <td>0.000000</td>\n",
       "      <td>0.000000</td>\n",
       "      <td>3.761200</td>\n",
       "    </tr>\n",
       "    <tr>\n",
       "      <th>25%</th>\n",
       "      <td>1.00000</td>\n",
       "      <td>1.000000</td>\n",
       "      <td>5.828975</td>\n",
       "      <td>40.728300</td>\n",
       "      <td>-73.991700</td>\n",
       "      <td>0.000000</td>\n",
       "      <td>0.000000</td>\n",
       "      <td>0.000000</td>\n",
       "      <td>2.000000</td>\n",
       "      <td>4.000000</td>\n",
       "      <td>0.000000</td>\n",
       "      <td>0.000000</td>\n",
       "      <td>2.000000</td>\n",
       "      <td>7.824046</td>\n",
       "    </tr>\n",
       "    <tr>\n",
       "      <th>50%</th>\n",
       "      <td>1.00000</td>\n",
       "      <td>1.000000</td>\n",
       "      <td>6.335072</td>\n",
       "      <td>40.751800</td>\n",
       "      <td>-73.977900</td>\n",
       "      <td>0.000000</td>\n",
       "      <td>0.000000</td>\n",
       "      <td>0.000000</td>\n",
       "      <td>5.000000</td>\n",
       "      <td>5.000000</td>\n",
       "      <td>0.000000</td>\n",
       "      <td>0.000000</td>\n",
       "      <td>3.000000</td>\n",
       "      <td>8.055158</td>\n",
       "    </tr>\n",
       "    <tr>\n",
       "      <th>75%</th>\n",
       "      <td>1.00000</td>\n",
       "      <td>2.000000</td>\n",
       "      <td>6.695811</td>\n",
       "      <td>40.774300</td>\n",
       "      <td>-73.954800</td>\n",
       "      <td>0.000000</td>\n",
       "      <td>0.000000</td>\n",
       "      <td>0.000000</td>\n",
       "      <td>8.000000</td>\n",
       "      <td>7.000000</td>\n",
       "      <td>0.000000</td>\n",
       "      <td>0.000000</td>\n",
       "      <td>5.000000</td>\n",
       "      <td>8.318742</td>\n",
       "    </tr>\n",
       "    <tr>\n",
       "      <th>max</th>\n",
       "      <td>10.00000</td>\n",
       "      <td>8.000000</td>\n",
       "      <td>8.404251</td>\n",
       "      <td>44.883500</td>\n",
       "      <td>0.000000</td>\n",
       "      <td>1.000000</td>\n",
       "      <td>1.000000</td>\n",
       "      <td>1.000000</td>\n",
       "      <td>39.000000</td>\n",
       "      <td>68.000000</td>\n",
       "      <td>1.000000</td>\n",
       "      <td>1.000000</td>\n",
       "      <td>23.000000</td>\n",
       "      <td>15.317363</td>\n",
       "    </tr>\n",
       "  </tbody>\n",
       "</table>\n",
       "</div>"
      ],
      "text/plain": [
       "         bathrooms      bedrooms  log_description_length      latitude  \\\n",
       "count  49352.00000  49352.000000            49352.000000  49352.000000   \n",
       "mean       1.21218      1.541640                5.786637     40.741545   \n",
       "std        0.50142      1.115018                2.114003      0.638535   \n",
       "min        0.00000      0.000000               -4.605170      0.000000   \n",
       "25%        1.00000      1.000000                5.828975     40.728300   \n",
       "50%        1.00000      1.000000                6.335072     40.751800   \n",
       "75%        1.00000      2.000000                6.695811     40.774300   \n",
       "max       10.00000      8.000000                8.404251     44.883500   \n",
       "\n",
       "          longitude  low_interest_manager_id  low_interest_building_id  \\\n",
       "count  49352.000000             49352.000000              49352.000000   \n",
       "mean     -73.955716                 0.133368                  0.028287   \n",
       "std        1.177912                 0.339976                  0.165792   \n",
       "min     -118.271000                 0.000000                  0.000000   \n",
       "25%      -73.991700                 0.000000                  0.000000   \n",
       "50%      -73.977900                 0.000000                  0.000000   \n",
       "75%      -73.954800                 0.000000                  0.000000   \n",
       "max        0.000000                 1.000000                  1.000000   \n",
       "\n",
       "       no_building_id    n_features      n_photos  has_zero_photos  \\\n",
       "count    49352.000000  49352.000000  49352.000000     49352.000000   \n",
       "mean         0.167896      5.428473      5.606946         0.073249   \n",
       "std          0.373778      3.923411      3.632283         0.260548   \n",
       "min          0.000000      0.000000      0.000000         0.000000   \n",
       "25%          0.000000      2.000000      4.000000         0.000000   \n",
       "50%          0.000000      5.000000      5.000000         0.000000   \n",
       "75%          0.000000      8.000000      7.000000         0.000000   \n",
       "max          1.000000     39.000000     68.000000         1.000000   \n",
       "\n",
       "       low_interest_display_address   hour_of_day     log_price  \n",
       "count                  49352.000000  49352.000000  49352.000000  \n",
       "mean                       0.060322      4.764690      8.099032  \n",
       "std                        0.238084      4.190298      0.432838  \n",
       "min                        0.000000      0.000000      3.761200  \n",
       "25%                        0.000000      2.000000      7.824046  \n",
       "50%                        0.000000      3.000000      8.055158  \n",
       "75%                        0.000000      5.000000      8.318742  \n",
       "max                        1.000000     23.000000     15.317363  "
      ]
     },
     "execution_count": 484,
     "metadata": {},
     "output_type": "execute_result"
    }
   ],
   "source": [
    "X.describe()"
   ]
  },
  {
   "cell_type": "code",
   "execution_count": 469,
   "metadata": {
    "collapsed": false
   },
   "outputs": [
    {
     "data": {
      "text/plain": [
       "['/Users/danielg/anaconda3/lib/python3.6/site-packages/sklearn']"
      ]
     },
     "execution_count": 469,
     "metadata": {},
     "output_type": "execute_result"
    }
   ],
   "source": [
    "sk.__path__"
   ]
  },
  {
   "cell_type": "code",
   "execution_count": 470,
   "metadata": {
    "collapsed": false
   },
   "outputs": [
    {
     "data": {
      "text/plain": [
       "2"
      ]
     },
     "execution_count": 470,
     "metadata": {},
     "output_type": "execute_result"
    }
   ],
   "source": [
    "sss = model_selection.StratifiedShuffleSplit(n_splits = 2, test_size=0.2, random_state=0)\n",
    "sss.get_n_splits(X=X, y=y)"
   ]
  },
  {
   "cell_type": "code",
   "execution_count": 471,
   "metadata": {
    "collapsed": false
   },
   "outputs": [
    {
     "name": "stdout",
     "output_type": "stream",
     "text": [
      "TRAIN: [17984 36593  7219 ..., 17629 40833 20954] TEST: [37887 39631 10074 ..., 20903 26267 16106]\n",
      "TRAIN: [47718 17388 47139 ..., 12099 27110 39561] TEST: [  501 33857  9196 ...,  7458 31635 42554]\n"
     ]
    }
   ],
   "source": [
    "for train_index, test_index in sss.split(X, y):\n",
    "    print(\"TRAIN:\", train_index, \"TEST:\", test_index)\n",
    "    X_train, X_test = X.iloc[train_index], X.iloc[test_index]\n",
    "    y_train, y_test = y.iloc[train_index], y.iloc[test_index]"
   ]
  },
  {
   "cell_type": "code",
   "execution_count": 472,
   "metadata": {
    "collapsed": false
   },
   "outputs": [
    {
     "data": {
      "text/html": [
       "<div>\n",
       "<table border=\"1\" class=\"dataframe\">\n",
       "  <thead>\n",
       "    <tr style=\"text-align: right;\">\n",
       "      <th></th>\n",
       "      <th>bathrooms</th>\n",
       "      <th>bedrooms</th>\n",
       "      <th>log_description_length</th>\n",
       "      <th>latitude</th>\n",
       "      <th>longitude</th>\n",
       "      <th>low_interest_manager_id</th>\n",
       "      <th>low_interest_building_id</th>\n",
       "      <th>no_building_id</th>\n",
       "      <th>n_features</th>\n",
       "      <th>n_photos</th>\n",
       "      <th>has_zero_photos</th>\n",
       "      <th>low_interest_display_address</th>\n",
       "      <th>hour_of_day</th>\n",
       "      <th>log_price</th>\n",
       "    </tr>\n",
       "    <tr>\n",
       "      <th>listing_id</th>\n",
       "      <th></th>\n",
       "      <th></th>\n",
       "      <th></th>\n",
       "      <th></th>\n",
       "      <th></th>\n",
       "      <th></th>\n",
       "      <th></th>\n",
       "      <th></th>\n",
       "      <th></th>\n",
       "      <th></th>\n",
       "      <th></th>\n",
       "      <th></th>\n",
       "      <th></th>\n",
       "      <th></th>\n",
       "    </tr>\n",
       "  </thead>\n",
       "  <tbody>\n",
       "    <tr>\n",
       "      <th>6891817</th>\n",
       "      <td>1.0</td>\n",
       "      <td>1</td>\n",
       "      <td>7.773599</td>\n",
       "      <td>40.678</td>\n",
       "      <td>-73.9909</td>\n",
       "      <td>0</td>\n",
       "      <td>0</td>\n",
       "      <td>0</td>\n",
       "      <td>7</td>\n",
       "      <td>9</td>\n",
       "      <td>0</td>\n",
       "      <td>0</td>\n",
       "      <td>2</td>\n",
       "      <td>8.080547</td>\n",
       "    </tr>\n",
       "  </tbody>\n",
       "</table>\n",
       "</div>"
      ],
      "text/plain": [
       "            bathrooms  bedrooms  log_description_length  latitude  longitude  \\\n",
       "listing_id                                                                     \n",
       "6891817           1.0         1                7.773599    40.678   -73.9909   \n",
       "\n",
       "            low_interest_manager_id  low_interest_building_id  no_building_id  \\\n",
       "listing_id                                                                      \n",
       "6891817                           0                         0               0   \n",
       "\n",
       "            n_features  n_photos  has_zero_photos  \\\n",
       "listing_id                                          \n",
       "6891817              7         9                0   \n",
       "\n",
       "            low_interest_display_address  hour_of_day  log_price  \n",
       "listing_id                                                        \n",
       "6891817                                0            2   8.080547  "
      ]
     },
     "execution_count": 472,
     "metadata": {},
     "output_type": "execute_result"
    }
   ],
   "source": [
    "X_train.head(1)"
   ]
  },
  {
   "cell_type": "code",
   "execution_count": 473,
   "metadata": {
    "collapsed": false
   },
   "outputs": [
    {
     "name": "stdout",
     "output_type": "stream",
     "text": [
      "listing_id\n",
      "6891817    low\n",
      "Name: interest_level, dtype: object\n",
      "(39481,)\n"
     ]
    }
   ],
   "source": [
    "print(y_train.head(1))\n",
    "print(y_train.shape)"
   ]
  },
  {
   "cell_type": "markdown",
   "metadata": {},
   "source": [
    "fit model"
   ]
  },
  {
   "cell_type": "code",
   "execution_count": 474,
   "metadata": {
    "collapsed": true
   },
   "outputs": [],
   "source": [
    "# default model to fit is one vs rest \n",
    "# tried multinomial and it was worse...\n",
    "logreg = linear_model.LogisticRegression()"
   ]
  },
  {
   "cell_type": "code",
   "execution_count": 475,
   "metadata": {
    "collapsed": false
   },
   "outputs": [
    {
     "data": {
      "text/plain": [
       "LogisticRegression(C=1.0, class_weight=None, dual=False, fit_intercept=True,\n",
       "          intercept_scaling=1, max_iter=100, multi_class='ovr', n_jobs=1,\n",
       "          penalty='l2', random_state=None, solver='liblinear', tol=0.0001,\n",
       "          verbose=0, warm_start=False)"
      ]
     },
     "execution_count": 475,
     "metadata": {},
     "output_type": "execute_result"
    }
   ],
   "source": [
    "logreg.fit(X_train, y_train)"
   ]
  },
  {
   "cell_type": "markdown",
   "metadata": {},
   "source": [
    "evaluate"
   ]
  },
  {
   "cell_type": "code",
   "execution_count": 476,
   "metadata": {
    "collapsed": false
   },
   "outputs": [],
   "source": [
    "y_pred = logreg.predict_proba(X_test)"
   ]
  },
  {
   "cell_type": "code",
   "execution_count": 477,
   "metadata": {
    "collapsed": true
   },
   "outputs": [],
   "source": [
    "y_pred_labels = logreg.predict(X_test)"
   ]
  },
  {
   "cell_type": "code",
   "execution_count": 478,
   "metadata": {
    "collapsed": false
   },
   "outputs": [
    {
     "data": {
      "text/plain": [
       "0.64169907737666898"
      ]
     },
     "execution_count": 478,
     "metadata": {},
     "output_type": "execute_result"
    }
   ],
   "source": [
    "metrics.log_loss(y_true=y_test, y_pred=y_pred)"
   ]
  },
  {
   "cell_type": "markdown",
   "metadata": {
    "collapsed": true
   },
   "source": [
    "## try a different model"
   ]
  },
  {
   "cell_type": "code",
   "execution_count": 479,
   "metadata": {
    "collapsed": false
   },
   "outputs": [
    {
     "data": {
      "text/html": [
       "<div>\n",
       "<table border=\"1\" class=\"dataframe\">\n",
       "  <thead>\n",
       "    <tr style=\"text-align: right;\">\n",
       "      <th></th>\n",
       "      <th>bathrooms</th>\n",
       "      <th>bedrooms</th>\n",
       "      <th>log_description_length</th>\n",
       "      <th>latitude</th>\n",
       "      <th>longitude</th>\n",
       "      <th>low_interest_manager_id</th>\n",
       "      <th>low_interest_building_id</th>\n",
       "      <th>no_building_id</th>\n",
       "      <th>n_features</th>\n",
       "      <th>n_photos</th>\n",
       "      <th>has_zero_photos</th>\n",
       "      <th>low_interest_display_address</th>\n",
       "      <th>hour_of_day</th>\n",
       "      <th>log_price</th>\n",
       "    </tr>\n",
       "    <tr>\n",
       "      <th>listing_id</th>\n",
       "      <th></th>\n",
       "      <th></th>\n",
       "      <th></th>\n",
       "      <th></th>\n",
       "      <th></th>\n",
       "      <th></th>\n",
       "      <th></th>\n",
       "      <th></th>\n",
       "      <th></th>\n",
       "      <th></th>\n",
       "      <th></th>\n",
       "      <th></th>\n",
       "      <th></th>\n",
       "      <th></th>\n",
       "    </tr>\n",
       "  </thead>\n",
       "  <tbody>\n",
       "    <tr>\n",
       "      <th>6891817</th>\n",
       "      <td>1.0</td>\n",
       "      <td>1</td>\n",
       "      <td>7.773599</td>\n",
       "      <td>40.678</td>\n",
       "      <td>-73.9909</td>\n",
       "      <td>0</td>\n",
       "      <td>0</td>\n",
       "      <td>0</td>\n",
       "      <td>7</td>\n",
       "      <td>9</td>\n",
       "      <td>0</td>\n",
       "      <td>0</td>\n",
       "      <td>2</td>\n",
       "      <td>8.080547</td>\n",
       "    </tr>\n",
       "  </tbody>\n",
       "</table>\n",
       "</div>"
      ],
      "text/plain": [
       "            bathrooms  bedrooms  log_description_length  latitude  longitude  \\\n",
       "listing_id                                                                     \n",
       "6891817           1.0         1                7.773599    40.678   -73.9909   \n",
       "\n",
       "            low_interest_manager_id  low_interest_building_id  no_building_id  \\\n",
       "listing_id                                                                      \n",
       "6891817                           0                         0               0   \n",
       "\n",
       "            n_features  n_photos  has_zero_photos  \\\n",
       "listing_id                                          \n",
       "6891817              7         9                0   \n",
       "\n",
       "            low_interest_display_address  hour_of_day  log_price  \n",
       "listing_id                                                        \n",
       "6891817                                0            2   8.080547  "
      ]
     },
     "execution_count": 479,
     "metadata": {},
     "output_type": "execute_result"
    }
   ],
   "source": [
    "X_train.head(1)"
   ]
  },
  {
   "cell_type": "code",
   "execution_count": 480,
   "metadata": {
    "collapsed": true
   },
   "outputs": [],
   "source": [
    "from sklearn.ensemble import RandomForestClassifier"
   ]
  },
  {
   "cell_type": "code",
   "execution_count": 481,
   "metadata": {
    "collapsed": false
   },
   "outputs": [],
   "source": [
    "clf = RandomForestClassifier(n_estimators=1000)\n",
    "clf.fit(X_train, y_train)\n",
    "y_val_pred = clf.predict_proba(X_test)"
   ]
  },
  {
   "cell_type": "code",
   "execution_count": 482,
   "metadata": {
    "collapsed": false
   },
   "outputs": [
    {
     "data": {
      "text/plain": [
       "0.59356757941290195"
      ]
     },
     "execution_count": 482,
     "metadata": {},
     "output_type": "execute_result"
    }
   ],
   "source": [
    "metrics.log_loss(y_true=y_test, y_pred=y_val_pred)"
   ]
  },
  {
   "cell_type": "code",
   "execution_count": null,
   "metadata": {
    "collapsed": true
   },
   "outputs": [],
   "source": []
  }
 ],
 "metadata": {
  "kernelspec": {
   "display_name": "Python 3",
   "language": "python",
   "name": "python3"
  },
  "language_info": {
   "codemirror_mode": {
    "name": "ipython",
    "version": 3
   },
   "file_extension": ".py",
   "mimetype": "text/x-python",
   "name": "python",
   "nbconvert_exporter": "python",
   "pygments_lexer": "ipython3",
   "version": "3.6.0"
  }
 },
 "nbformat": 4,
 "nbformat_minor": 2
}
